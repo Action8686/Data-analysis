{
 "cells": [
  {
   "cell_type": "markdown",
   "metadata": {},
   "source": [
    "## NumPy"
   ]
  },
  {
   "cell_type": "markdown",
   "metadata": {},
   "source": [
    "ndarray的随机创建"
   ]
  },
  {
   "cell_type": "code",
   "execution_count": 1,
   "metadata": {
    "collapsed": true
   },
   "outputs": [],
   "source": [
    "# 导入numpy，别名是np\n",
    "import numpy as np"
   ]
  },
  {
   "cell_type": "code",
   "execution_count": 2,
   "metadata": {
    "collapsed": false
   },
   "outputs": [
    {
     "name": "stdout",
     "output_type": "stream",
     "text": [
      "[[ 0.870892    0.91548663  0.0248226   0.1591814 ]\n",
      " [ 0.46902906  0.32895097  0.82706097  0.09981212]\n",
      " [ 0.04020235  0.75217794  0.7617957   0.50298033]]\n",
      "<class 'numpy.ndarray'>\n",
      "2\n",
      "(3, 4)\n",
      "float64\n"
     ]
    }
   ],
   "source": [
    "# random表示常见的随机数，rand表示创建一个随机浮点数组，参数个数变数维度的大小\n",
    "# 默认的区间是0.0-0.1之间\n",
    "arr = np.random.rand(3,4)\n",
    "print(arr)\n",
    "print(type(arr))\n",
    "# ndim参数表示数组的维度\n",
    "print(arr.ndim)\n",
    "\n",
    "# shape 参数表示数据的大小\n",
    "print(arr.shape)\n",
    "# dtype 表示每个数组的类型\n",
    "print(arr.dtype)\n"
   ]
  },
  {
   "cell_type": "code",
   "execution_count": 4,
   "metadata": {
    "collapsed": false
   },
   "outputs": [],
   "source": [
    "# 生成一个符合标准正态分布的随机浮点数组\n",
    "arr = np.random.randn(1000)\n",
    "#print(arr)\n"
   ]
  },
  {
   "cell_type": "code",
   "execution_count": 5,
   "metadata": {
    "collapsed": false
   },
   "outputs": [
    {
     "name": "stdout",
     "output_type": "stream",
     "text": [
      "[[  4  12 -10   5]\n",
      " [  8  -9  -5  -4]\n",
      " [ 10   6  -3  -4]]\n"
     ]
    }
   ],
   "source": [
    "# 创建一个3行4列的二维整数数组，每个元素的值得区间在-10~20之间\n",
    "arr = np.random.randint(-10,20, size = (3,4))\n",
    "print(arr)"
   ]
  },
  {
   "cell_type": "code",
   "execution_count": 6,
   "metadata": {
    "collapsed": false
   },
   "outputs": [
    {
     "name": "stdout",
     "output_type": "stream",
     "text": [
      "[[ -5.60912561   3.43869256   2.92418409  15.45765602]\n",
      " [ 13.21220023  -1.28143246   4.42122765  14.53247327]\n",
      " [ -2.42163965  -3.70277836   0.12730163   2.01670471]]\n"
     ]
    }
   ],
   "source": [
    "# 创建一个3行4列的二维浮点数组，每个元素的值得区间在-10~20之间\n",
    "arr = np.random.uniform(-10, 20, (3, 4)) # size=可以省略不写\n",
    "print(arr)"
   ]
  },
  {
   "cell_type": "markdown",
   "metadata": {},
   "source": [
    "## ndarray的序列创建"
   ]
  },
  {
   "cell_type": "code",
   "execution_count": 11,
   "metadata": {
    "collapsed": false
   },
   "outputs": [
    {
     "name": "stdout",
     "output_type": "stream",
     "text": [
      "<class 'list'>\n"
     ]
    }
   ],
   "source": [
    "# lis是range类型, 包含了0~10的数据的迭代器\n",
    "lis = range(10)\n",
    "# 把lis作为np.array()的参数，则会创建一个包含0~10的10个元素的一维数组对象\n",
    "arr = np.array(list)\n",
    "print(arr)"
   ]
  },
  {
   "cell_type": "code",
   "execution_count": 12,
   "metadata": {
    "collapsed": false
   },
   "outputs": [
    {
     "name": "stdout",
     "output_type": "stream",
     "text": [
      "[[<class 'list'> <class 'list'>]\n",
      " [<class 'list'> <class 'list'>]]\n"
     ]
    }
   ],
   "source": [
    "# array()参数可以使多维的数组\n",
    "#下面的示例，便是创建了一个三维的数组，数组里包含了两个二维数组\n",
    "# 每个二维数组包含了两个一维数组\n",
    "# 每一一维数组包含了10个元素\n",
    "arr2 = np.array([[list, list],[list, list]])\n",
    "print(arr2)"
   ]
  },
  {
   "cell_type": "code",
   "execution_count": 15,
   "metadata": {
    "collapsed": false
   },
   "outputs": [
    {
     "name": "stdout",
     "output_type": "stream",
     "text": [
      "[[0 0 0 0]\n",
      " [0 0 0 0]\n",
      " [0 0 0 0]]\n",
      "int32\n"
     ]
    }
   ],
   "source": [
    "# 创建一个3行4列的二维数组，默认数组的每个元素都是float64树泽的\n",
    "# 第二个参数可以指定数据类型\n",
    "arr3 = np.zeros((3,4), int)\n",
    "print(arr3)\n",
    "print(arr3.dtype)"
   ]
  },
  {
   "cell_type": "code",
   "execution_count": 17,
   "metadata": {
    "collapsed": false
   },
   "outputs": [
    {
     "name": "stdout",
     "output_type": "stream",
     "text": [
      "[[1 1 1 1]\n",
      " [1 1 1 1]\n",
      " [1 1 1 1]]\n"
     ]
    }
   ],
   "source": [
    "# 创建一个3行4列的二维数组，默认数组的每个元素都是float64类型的\n",
    "# 第二个参数可以指定数据类型\n",
    "arr4  =np.ones((3, 4), int)\n",
    "print(arr4)\n"
   ]
  },
  {
   "cell_type": "code",
   "execution_count": 19,
   "metadata": {
    "collapsed": false
   },
   "outputs": [
    {
     "name": "stdout",
     "output_type": "stream",
     "text": [
      "[[234   0   0   0]\n",
      " [  0   0   0   0]\n",
      " [  0   0   0   0]]\n"
     ]
    }
   ],
   "source": [
    "# 初始化数组，不指定具体的数值，里面的值有可能是0， 有可能不是0， 默认数组的每个元素都是FLOAT64乐类型\n",
    "# 第二个参数可以指定数据类型\n",
    "arr5 = np.empty((3,4), int)\n",
    "print(arr5)"
   ]
  },
  {
   "cell_type": "markdown",
   "metadata": {},
   "source": [
    "## ndarray 的arange和reshape"
   ]
  },
  {
   "cell_type": "code",
   "execution_count": 20,
   "metadata": {
    "collapsed": false
   },
   "outputs": [
    {
     "name": "stdout",
     "output_type": "stream",
     "text": [
      "[0 1 2 3 4 5 6 7 8 9]\n"
     ]
    }
   ],
   "source": [
    "# arange() 类似 python 的 range() ，创建一个一维 ndarray 数组。\n",
    "arr = np.arange(10)\n",
    "print(arr)"
   ]
  },
  {
   "cell_type": "code",
   "execution_count": 21,
   "metadata": {
    "collapsed": false
   },
   "outputs": [
    {
     "name": "stdout",
     "output_type": "stream",
     "text": [
      "[[0 1 2 3 4]\n",
      " [5 6 7 8 9]]\n"
     ]
    }
   ],
   "source": [
    "# reshape() 将 重新调整数组的维数。\n",
    "arr2  =arr.reshape(2,5)\n",
    "print(arr2)"
   ]
  },
  {
   "cell_type": "code",
   "execution_count": 24,
   "metadata": {
    "collapsed": false
   },
   "outputs": [
    {
     "name": "stdout",
     "output_type": "stream",
     "text": [
      "[[[0 1 2 3 4]\n",
      "  [5 6 7 8 9]]]\n"
     ]
    }
   ],
   "source": [
    "# 将十个元素的一维数组改变为 一个三维数组,一个三维数组，包含两个二维数组，里面有5个元素\n",
    "arr3 = arr.reshape(1,2,5)\n",
    "print(arr3)"
   ]
  },
  {
   "cell_type": "code",
   "execution_count": 26,
   "metadata": {
    "collapsed": false
   },
   "outputs": [
    {
     "name": "stdout",
     "output_type": "stream",
     "text": [
      "[3 8 5 2 4 6 0 7 9 1]\n"
     ]
    }
   ],
   "source": [
    "# 随机打乱原数组的序列\n",
    "np.random.shuffle(arr)\n",
    "print(arr)"
   ]
  },
  {
   "cell_type": "markdown",
   "metadata": {},
   "source": [
    "## 数组的数据类型的转换\n"
   ]
  },
  {
   "cell_type": "code",
   "execution_count": 27,
   "metadata": {
    "collapsed": false
   },
   "outputs": [
    {
     "name": "stdout",
     "output_type": "stream",
     "text": [
      "[[ 0.  0.  0.  0.]\n",
      " [ 0.  0.  0.  0.]\n",
      " [ 0.  0.  0.  0.]]\n"
     ]
    }
   ],
   "source": [
    "zero_float  = np.zeros((3, 4))\n",
    "print(zero_float)"
   ]
  },
  {
   "cell_type": "code",
   "execution_count": 28,
   "metadata": {
    "collapsed": false
   },
   "outputs": [
    {
     "name": "stdout",
     "output_type": "stream",
     "text": [
      "[[0 0 0 0]\n",
      " [0 0 0 0]\n",
      " [0 0 0 0]]\n"
     ]
    }
   ],
   "source": [
    "zero_int = zero_float .astype(np.int32)\n",
    "print(zero_int)"
   ]
  },
  {
   "cell_type": "code",
   "execution_count": null,
   "metadata": {
    "collapsed": true
   },
   "outputs": [],
   "source": []
  }
 ],
 "metadata": {
  "kernelspec": {
   "display_name": "Python 3",
   "language": "python",
   "name": "python3"
  },
  "language_info": {
   "codemirror_mode": {
    "name": "ipython",
    "version": 3
   },
   "file_extension": ".py",
   "mimetype": "text/x-python",
   "name": "python",
   "nbconvert_exporter": "python",
   "pygments_lexer": "ipython3",
   "version": "3.6.0"
  }
 },
 "nbformat": 4,
 "nbformat_minor": 2
}
