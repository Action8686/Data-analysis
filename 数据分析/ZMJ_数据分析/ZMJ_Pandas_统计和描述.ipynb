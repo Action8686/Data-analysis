{
 "cells": [
  {
   "cell_type": "code",
   "execution_count": 1,
   "metadata": {
    "collapsed": true
   },
   "outputs": [],
   "source": [
    "import pandas as pd\n",
    "import numpy as np\n"
   ]
  },
  {
   "cell_type": "code",
   "execution_count": 2,
   "metadata": {
    "collapsed": false
   },
   "outputs": [
    {
     "name": "stdout",
     "output_type": "stream",
     "text": [
      "          a         b         c         d\n",
      "0  0.421058  0.890907  0.925898  0.122012\n",
      "1  0.019889  0.245671  0.891909  0.333561\n",
      "2  0.309661  0.162435  0.829044  0.848181\n"
     ]
    }
   ],
   "source": [
    "df_obj = pd.DataFrame(np.random.rand(3, 4), columns = ['a', 'b', 'c', 'd'])\n",
    "print(df_obj)\n"
   ]
  },
  {
   "cell_type": "markdown",
   "metadata": {},
   "source": [
    "## 统计计算\n"
   ]
  },
  {
   "cell_type": "code",
   "execution_count": 3,
   "metadata": {
    "collapsed": true
   },
   "outputs": [],
   "source": [
    "# axis指定统计运算的轴方向，默认是0  统计列     1 是统计行\n",
    "# skipna统计时跳过nan， 默认是True是跳过\n"
   ]
  },
  {
   "cell_type": "code",
   "execution_count": 4,
   "metadata": {
    "collapsed": false
   },
   "outputs": [
    {
     "name": "stdout",
     "output_type": "stream",
     "text": [
      "0    2.359874\n",
      "1    1.491029\n",
      "2    2.149321\n",
      "dtype: float64\n"
     ]
    }
   ],
   "source": [
    "print(df_obj.sum(axis=1))\n"
   ]
  },
  {
   "cell_type": "code",
   "execution_count": 5,
   "metadata": {
    "collapsed": false
   },
   "outputs": [
    {
     "name": "stdout",
     "output_type": "stream",
     "text": [
      "a    0.019889\n",
      "b    0.162435\n",
      "c    0.829044\n",
      "d    0.122012\n",
      "dtype: float64\n"
     ]
    }
   ],
   "source": [
    "print(df_obj.min())"
   ]
  },
  {
   "cell_type": "markdown",
   "metadata": {},
   "source": [
    "# 描述计算"
   ]
  },
  {
   "cell_type": "code",
   "execution_count": 6,
   "metadata": {
    "collapsed": false
   },
   "outputs": [
    {
     "name": "stdout",
     "output_type": "stream",
     "text": [
      "              a         b         c         d\n",
      "count  3.000000  3.000000  3.000000  3.000000\n",
      "mean   0.250203  0.433004  0.882284  0.434585\n",
      "std    0.207088  0.398733  0.049139  0.373477\n",
      "min    0.019889  0.162435  0.829044  0.122012\n",
      "25%    0.164775  0.204053  0.860477  0.227786\n",
      "50%    0.309661  0.245671  0.891909  0.333561\n",
      "75%    0.365359  0.568289  0.908903  0.590871\n",
      "max    0.421058  0.890907  0.925898  0.848181\n"
     ]
    }
   ],
   "source": [
    "# 产生数据集的数据大概描述\n",
    "print(df_obj.describe())"
   ]
  },
  {
   "cell_type": "code",
   "execution_count": null,
   "metadata": {
    "collapsed": true
   },
   "outputs": [],
   "source": []
  }
 ],
 "metadata": {
  "kernelspec": {
   "display_name": "Python 3",
   "language": "python",
   "name": "python3"
  },
  "language_info": {
   "codemirror_mode": {
    "name": "ipython",
    "version": 3
   },
   "file_extension": ".py",
   "mimetype": "text/x-python",
   "name": "python",
   "nbconvert_exporter": "python",
   "pygments_lexer": "ipython3",
   "version": "3.6.0"
  }
 },
 "nbformat": 4,
 "nbformat_minor": 2
}
