{
 "cells": [
  {
   "cell_type": "code",
   "execution_count": 1,
   "metadata": {
    "collapsed": true
   },
   "outputs": [],
   "source": [
    "import pandas as pd\n",
    "import numpy as np\n"
   ]
  },
  {
   "cell_type": "code",
   "execution_count": 2,
   "metadata": {
    "collapsed": true
   },
   "outputs": [],
   "source": [
    "# 在NumPy里，可以对数组里的每一个元素进行操作的函数，\n",
    "# 通用函数，ufunc\n",
    "# 在Pandas里可以直接使用NumPy里的ufunc"
   ]
  },
  {
   "cell_type": "markdown",
   "metadata": {},
   "source": [
    "## 1.直接使用NumPy ufunc"
   ]
  },
  {
   "cell_type": "code",
   "execution_count": 4,
   "metadata": {
    "collapsed": false
   },
   "outputs": [
    {
     "data": {
      "text/html": [
       "<div>\n",
       "<table border=\"1\" class=\"dataframe\">\n",
       "  <thead>\n",
       "    <tr style=\"text-align: right;\">\n",
       "      <th></th>\n",
       "      <th>0</th>\n",
       "      <th>1</th>\n",
       "      <th>2</th>\n",
       "      <th>3</th>\n",
       "    </tr>\n",
       "  </thead>\n",
       "  <tbody>\n",
       "    <tr>\n",
       "      <th>0</th>\n",
       "      <td>-11.266353</td>\n",
       "      <td>-9.846872</td>\n",
       "      <td>-9.759156</td>\n",
       "      <td>-9.052506</td>\n",
       "    </tr>\n",
       "    <tr>\n",
       "      <th>1</th>\n",
       "      <td>-9.867886</td>\n",
       "      <td>-10.462495</td>\n",
       "      <td>-8.218441</td>\n",
       "      <td>-10.489192</td>\n",
       "    </tr>\n",
       "    <tr>\n",
       "      <th>2</th>\n",
       "      <td>-8.790447</td>\n",
       "      <td>-10.369617</td>\n",
       "      <td>-9.469437</td>\n",
       "      <td>-10.861096</td>\n",
       "    </tr>\n",
       "  </tbody>\n",
       "</table>\n",
       "</div>"
      ],
      "text/plain": [
       "           0          1         2          3\n",
       "0 -11.266353  -9.846872 -9.759156  -9.052506\n",
       "1  -9.867886 -10.462495 -8.218441 -10.489192\n",
       "2  -8.790447 -10.369617 -9.469437 -10.861096"
      ]
     },
     "execution_count": 4,
     "metadata": {},
     "output_type": "execute_result"
    }
   ],
   "source": [
    "ser_obj = pd.Series(np.arange(10) + 10)\n",
    "ser_obj\n",
    "df_obj = pd.DataFrame(np.random.randn(3,4)-10)\n",
    "df_obj"
   ]
  },
  {
   "cell_type": "code",
   "execution_count": 5,
   "metadata": {
    "collapsed": false
   },
   "outputs": [
    {
     "name": "stdout",
     "output_type": "stream",
     "text": [
      "145\n",
      "           0          1         2          3\n",
      "0  11.266353   9.846872  9.759156   9.052506\n",
      "1   9.867886  10.462495  8.218441  10.489192\n",
      "2   8.790447  10.369617  9.469437  10.861096\n"
     ]
    }
   ],
   "source": [
    "print(np.sum(ser_obj))\n",
    "print(np.abs(df_obj))"
   ]
  },
  {
   "cell_type": "markdown",
   "metadata": {},
   "source": [
    "## 2.通过高阶函数来调用 自定义函数"
   ]
  },
  {
   "cell_type": "markdown",
   "metadata": {},
   "source": [
    "# apply 可以将某个函数应用Series的每个元素，或者是DataFrame的行或者列上"
   ]
  },
  {
   "cell_type": "code",
   "execution_count": 6,
   "metadata": {
    "collapsed": false
   },
   "outputs": [
    {
     "name": "stdout",
     "output_type": "stream",
     "text": [
      "0    11\n",
      "1    12\n",
      "2    13\n",
      "3    14\n",
      "4    15\n",
      "5    16\n",
      "6    17\n",
      "7    18\n",
      "8    19\n",
      "9    20\n",
      "dtype: int64\n"
     ]
    }
   ],
   "source": [
    "print(ser_obj.apply(lambda x : x + 1))"
   ]
  },
  {
   "cell_type": "code",
   "execution_count": 9,
   "metadata": {
    "collapsed": false
   },
   "outputs": [
    {
     "name": "stdout",
     "output_type": "stream",
     "text": [
      "           0         1         2         3\n",
      "0 -10.266353 -8.846872 -8.759156 -8.052506\n",
      "1  -8.867886 -9.462495 -7.218441 -9.489192\n",
      "2  -7.790447 -9.369617 -8.469437 -9.861096\n",
      "           0         1         2         3\n",
      "0 -10.266353 -8.846872 -8.759156 -8.052506\n",
      "1  -8.867886 -9.462495 -7.218441 -9.489192\n",
      "2  -7.790447 -9.369617 -8.469437 -9.861096\n"
     ]
    }
   ],
   "source": [
    "func = lambda x: x+1\n",
    "# apply 方法默认是对每一列进行操作\n",
    "print(df_obj.apply(func))\n",
    "# axis值默为0， 方向是列，值为1 ，方向是行\n",
    "print(df_obj.apply(func, axis = 1))"
   ]
  },
  {
   "cell_type": "markdown",
   "metadata": {},
   "source": [
    "##applymap()对DataFrame对象的所有元素的操作\n"
   ]
  },
  {
   "cell_type": "code",
   "execution_count": 10,
   "metadata": {
    "collapsed": false
   },
   "outputs": [
    {
     "name": "stdout",
     "output_type": "stream",
     "text": [
      "           0          1          2          3\n",
      "0 -22.532706 -19.693743 -19.518312 -18.105013\n",
      "1 -19.735772 -20.924989 -16.436882 -20.978383\n",
      "2 -17.580893 -20.739234 -18.938874 -21.722192\n"
     ]
    }
   ],
   "source": [
    "func2 = lambda x : x+x\n",
    "print(df_obj.applymap(func2))\n",
    "# applymap()方法只能用于DataFrame对象，Series对象不适合"
   ]
  },
  {
   "cell_type": "markdown",
   "metadata": {},
   "source": [
    "- DataFrame对象可以用 apply() 和applymap() ,\n",
    "> apply() 应用于行、列，可以通过axis来指定\n",
    "> applymap() 应用于 每个元素\n",
    "\n",
    "- Series对象只能用apply，效果等用于Python的map()\n",
    "> ser_obj.map(func)\n",
    "> ser_obj.apply(func)"
   ]
  },
  {
   "cell_type": "markdown",
   "metadata": {},
   "source": [
    "# 排序函数"
   ]
  },
  {
   "cell_type": "markdown",
   "metadata": {},
   "source": [
    "#按索引排序：sort_index()"
   ]
  },
  {
   "cell_type": "code",
   "execution_count": 12,
   "metadata": {
    "collapsed": false
   },
   "outputs": [
    {
     "name": "stdout",
     "output_type": "stream",
     "text": [
      "9     10\n",
      "10    11\n",
      "17    12\n",
      "13    13\n",
      "15    14\n",
      "dtype: int32\n"
     ]
    }
   ],
   "source": [
    "# Series对象\n",
    "# 创建一个Series对象，索引是随机的5个数字，区间在0~20之间\n",
    "ser_obj2 = pd.Series(range(10, 15), index = np.random.randint(20, size = 5))\n",
    "print(ser_obj2)"
   ]
  },
  {
   "cell_type": "code",
   "execution_count": 14,
   "metadata": {
    "collapsed": false
   },
   "outputs": [
    {
     "name": "stdout",
     "output_type": "stream",
     "text": [
      "9     10\n",
      "10    11\n",
      "13    13\n",
      "15    14\n",
      "17    12\n",
      "dtype: int32\n",
      "17    12\n",
      "15    14\n",
      "13    13\n",
      "10    11\n",
      "9     10\n",
      "dtype: int32\n"
     ]
    }
   ],
   "source": [
    "# sort_index()默认安升序排序， ascending = true\n",
    "print(ser_obj2.sort_index())\n",
    "# ascending = False,则是使用降序\n",
    "print(ser_obj2.sort_index(ascending=False))"
   ]
  },
  {
   "cell_type": "code",
   "execution_count": 17,
   "metadata": {
    "collapsed": false
   },
   "outputs": [
    {
     "name": "stdout",
     "output_type": "stream",
     "text": [
      "          19        10        17        11\n",
      "10  0.982748  0.112598  0.537842  0.071542\n",
      "6   0.001590  0.645541  0.929157  0.695481\n",
      "11  0.268769  0.836874  0.261603  0.570639\n"
     ]
    }
   ],
   "source": [
    "# 2.DataFrame对象，注意使用axis参数来指定，排序的轴的方向\n",
    "df_obj2 = pd.DataFrame(np.random.rand(3, 4), \n",
    "             index = np.random.randint(20, size= 3), \n",
    "             columns = np.random.randint(20, size = 4)\n",
    "        )\n",
    "print(df_obj2)"
   ]
  },
  {
   "cell_type": "code",
   "execution_count": 18,
   "metadata": {
    "collapsed": false
   },
   "outputs": [
    {
     "name": "stdout",
     "output_type": "stream",
     "text": [
      "          19        17        11        10\n",
      "10  0.982748  0.537842  0.071542  0.112598\n",
      "6   0.001590  0.929157  0.695481  0.645541\n",
      "11  0.268769  0.261603  0.570639  0.836874\n"
     ]
    }
   ],
   "source": [
    "# asxending 可以指定排序方式（升序、降序）， axis可以指定轴的方向（行索引、列索引）\n",
    "print(df_obj2.sort_index(ascending=False, axis=1))"
   ]
  },
  {
   "cell_type": "markdown",
   "metadata": {},
   "source": [
    "## 2.按值排序sort_values"
   ]
  },
  {
   "cell_type": "code",
   "execution_count": 22,
   "metadata": {
    "collapsed": false
   },
   "outputs": [
    {
     "name": "stdout",
     "output_type": "stream",
     "text": [
      "2    10\n",
      "1    11\n",
      "8    11\n",
      "3    12\n",
      "4    16\n",
      "7    16\n",
      "5    17\n",
      "6    17\n",
      "9    18\n",
      "0    19\n",
      "dtype: int32\n",
      "0    19\n",
      "9    18\n",
      "6    17\n",
      "5    17\n",
      "7    16\n",
      "4    16\n",
      "3    12\n",
      "8    11\n",
      "1    11\n",
      "2    10\n",
      "dtype: int32\n"
     ]
    }
   ],
   "source": [
    "# 1.Series\n",
    "ser_obj3 = pd.Series(np.random.randint(10, 20, size = 10))\n",
    "# 默认是按照升序排序\n",
    "print(ser_obj3.sort_values())\n",
    "# 指定ascending = False 为降序\n",
    "print(ser_obj3.sort_values(ascending=False))"
   ]
  },
  {
   "cell_type": "code",
   "execution_count": 23,
   "metadata": {
    "collapsed": false
   },
   "outputs": [
    {
     "name": "stdout",
     "output_type": "stream",
     "text": [
      "          19        10        11        17\n",
      "10  0.982748  0.112598  0.071542  0.537842\n",
      "6   0.001590  0.645541  0.695481  0.929157\n",
      "11  0.268769  0.836874  0.570639  0.261603\n"
     ]
    }
   ],
   "source": [
    "# 对DataFame对象操作时， 要指定按照哪一个 列、行排序\n",
    "# 如果根据某一个行名、列名来排序时， 要保证没有其他相同的行名、列名\n",
    "# 通过axis来指定排序的轴的方向\n",
    "# 注意：如果某一行、列的数据进行排序，则其他行列也会影响改变位置\n",
    "print(df_obj2.sort_values(by = 6, axis=1))"
   ]
  },
  {
   "cell_type": "markdown",
   "metadata": {},
   "source": [
    "## 4.处理缺失的数据NaN\n"
   ]
  },
  {
   "cell_type": "code",
   "execution_count": 24,
   "metadata": {
    "collapsed": false
   },
   "outputs": [
    {
     "data": {
      "text/html": [
       "<div>\n",
       "<table border=\"1\" class=\"dataframe\">\n",
       "  <thead>\n",
       "    <tr style=\"text-align: right;\">\n",
       "      <th></th>\n",
       "      <th>0</th>\n",
       "      <th>1</th>\n",
       "      <th>2</th>\n",
       "      <th>3</th>\n",
       "    </tr>\n",
       "  </thead>\n",
       "  <tbody>\n",
       "    <tr>\n",
       "      <th>0</th>\n",
       "      <td>1.0</td>\n",
       "      <td>2.0</td>\n",
       "      <td>NaN</td>\n",
       "      <td>NaN</td>\n",
       "    </tr>\n",
       "    <tr>\n",
       "      <th>1</th>\n",
       "      <td>NaN</td>\n",
       "      <td>3.0</td>\n",
       "      <td>4.0</td>\n",
       "      <td>NaN</td>\n",
       "    </tr>\n",
       "    <tr>\n",
       "      <th>2</th>\n",
       "      <td>0.0</td>\n",
       "      <td>1.0</td>\n",
       "      <td>2.0</td>\n",
       "      <td>3.0</td>\n",
       "    </tr>\n",
       "  </tbody>\n",
       "</table>\n",
       "</div>"
      ],
      "text/plain": [
       "     0    1    2    3\n",
       "0  1.0  2.0  NaN  NaN\n",
       "1  NaN  3.0  4.0  NaN\n",
       "2  0.0  1.0  2.0  3.0"
      ]
     },
     "execution_count": 24,
     "metadata": {},
     "output_type": "execute_result"
    }
   ],
   "source": [
    "df_obj5 = pd.DataFrame([\n",
    "    [1, 2., np.nan, np.nan],\n",
    "    [np.nan, 3, 4, np.nan],\n",
    "    list(range(4))]\n",
    ")\n",
    "df_obj5"
   ]
  },
  {
   "cell_type": "code",
   "execution_count": 25,
   "metadata": {
    "collapsed": false
   },
   "outputs": [
    {
     "name": "stdout",
     "output_type": "stream",
     "text": [
      "       0      1      2      3\n",
      "0  False  False   True   True\n",
      "1   True  False  False   True\n",
      "2  False  False  False  False\n"
     ]
    }
   ],
   "source": [
    "## 1.isnull()判断NaN值，如果是NaN则为True，否则为False\n",
    "print(df_obj5.isnull())"
   ]
  },
  {
   "cell_type": "code",
   "execution_count": 27,
   "metadata": {
    "collapsed": false
   },
   "outputs": [
    {
     "name": "stdout",
     "output_type": "stream",
     "text": [
      "     0    1    2    3\n",
      "2  0.0  1.0  2.0  3.0\n",
      "     1\n",
      "0  2.0\n",
      "1  3.0\n",
      "2  1.0\n"
     ]
    }
   ],
   "source": [
    "## 2.dropna() 去除包含NaN的行、列 默认是去除行，axis = 1 时，则去除列\n",
    "print(df_obj5.dropna())\n",
    "print(df_obj5.dropna(axis=1))"
   ]
  },
  {
   "cell_type": "code",
   "execution_count": 28,
   "metadata": {
    "collapsed": false
   },
   "outputs": [
    {
     "name": "stdout",
     "output_type": "stream",
     "text": [
      "     0    1    2    3\n",
      "0  1.0  2.0  0.0  0.0\n",
      "1  0.0  3.0  4.0  0.0\n",
      "2  0.0  1.0  2.0  3.0\n"
     ]
    }
   ],
   "source": [
    "## 3.fillna()   将NaN值替换为指定的值\n",
    "print(df_obj5.fillna(0.))"
   ]
  },
  {
   "cell_type": "code",
   "execution_count": null,
   "metadata": {
    "collapsed": true
   },
   "outputs": [],
   "source": []
  }
 ],
 "metadata": {
  "kernelspec": {
   "display_name": "Python 3",
   "language": "python",
   "name": "python3"
  },
  "language_info": {
   "codemirror_mode": {
    "name": "ipython",
    "version": 3
   },
   "file_extension": ".py",
   "mimetype": "text/x-python",
   "name": "python",
   "nbconvert_exporter": "python",
   "pygments_lexer": "ipython3",
   "version": "3.6.0"
  }
 },
 "nbformat": 4,
 "nbformat_minor": 2
}
