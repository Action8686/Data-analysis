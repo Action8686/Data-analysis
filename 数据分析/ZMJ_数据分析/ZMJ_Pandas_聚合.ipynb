{
 "cells": [
  {
   "cell_type": "markdown",
   "metadata": {},
   "source": [
    "## 聚合"
   ]
  },
  {
   "cell_type": "code",
   "execution_count": 1,
   "metadata": {
    "collapsed": true
   },
   "outputs": [],
   "source": [
    "## 用于对分组后的数据进行运算"
   ]
  },
  {
   "cell_type": "code",
   "execution_count": 2,
   "metadata": {
    "collapsed": true
   },
   "outputs": [],
   "source": [
    "import pandas as pd\n",
    "import numpy as np\n"
   ]
  },
  {
   "cell_type": "code",
   "execution_count": 3,
   "metadata": {
    "collapsed": false
   },
   "outputs": [
    {
     "name": "stdout",
     "output_type": "stream",
     "text": [
      "   data1  data2 key1   key2\n",
      "0      1      8    a    one\n",
      "1      7      4    b    one\n",
      "2      7      1    a    two\n",
      "3      7      7    b  three\n",
      "4      9      6    a    two\n",
      "5      7      2    b    two\n",
      "6      5      2    a    one\n",
      "7      7      7    a  three\n"
     ]
    }
   ],
   "source": [
    "dict_obj = {'key1' : ['a', 'b', 'a', 'b', \n",
    "                      'a', 'b', 'a', 'a'],\n",
    "            'key2' : ['one', 'one', 'two', 'three',\n",
    "                      'two', 'two', 'one', 'three'],\n",
    "            'data1': np.random.randint(1,10, 8),\n",
    "            'data2': np.random.randint(1,10, 8)}\n",
    "df_obj = pd.DataFrame(dict_obj)\n",
    "print(df_obj)"
   ]
  },
  {
   "cell_type": "code",
   "execution_count": 4,
   "metadata": {
    "collapsed": false
   },
   "outputs": [
    {
     "name": "stdout",
     "output_type": "stream",
     "text": [
      "              data1     data2\n",
      "key1                         \n",
      "a    count  5.00000  5.000000\n",
      "     mean   5.80000  4.800000\n",
      "     std    3.03315  3.114482\n",
      "     min    1.00000  1.000000\n",
      "     25%    5.00000  2.000000\n",
      "     50%    7.00000  6.000000\n",
      "     75%    7.00000  7.000000\n",
      "     max    9.00000  8.000000\n",
      "b    count  3.00000  3.000000\n",
      "     mean   7.00000  4.333333\n",
      "     std    0.00000  2.516611\n",
      "     min    7.00000  2.000000\n",
      "     25%    7.00000  3.000000\n",
      "     50%    7.00000  4.000000\n",
      "     75%    7.00000  5.500000\n",
      "     max    7.00000  7.000000\n"
     ]
    }
   ],
   "source": [
    "# 1. 常用的内置聚合函数\n",
    "#print(df_obj.groupby(\"key1\").sum())\n",
    "#print(df_obj.groupby(\"key1\").max())\n",
    "#print(df_obj.groupby(\"key1\").min())\n",
    "#print(df_obj.groupby(\"key1\").mean())\n",
    "print(df_obj.groupby(\"key1\").describe())"
   ]
  },
  {
   "cell_type": "code",
   "execution_count": 11,
   "metadata": {
    "collapsed": false
   },
   "outputs": [
    {
     "name": "stdout",
     "output_type": "stream",
     "text": [
      "       data1  data2\n",
      "key2               \n",
      "one        6      6\n",
      "three      0      0\n",
      "two        2      5\n"
     ]
    }
   ],
   "source": [
    "# 调用自定义聚合函数， 做聚合运算  可自定义函数，传入agg方法中\n",
    "# 函数作用： 最大值和最小值的差\n",
    "def func(num):\n",
    "    return num.max()-num.min()\n",
    "print(df_obj.groupby('key2').agg(func))\n"
   ]
  },
  {
   "cell_type": "code",
   "execution_count": 12,
   "metadata": {
    "collapsed": false
   },
   "outputs": [
    {
     "name": "stdout",
     "output_type": "stream",
     "text": [
      "     data1               data2                   \n",
      "       sum mean max func   sum      mean max func\n",
      "key1                                             \n",
      "a       29  5.8   9    8    24  4.800000   8    7\n",
      "b       21  7.0   7    0    13  4.333333   7    5\n"
     ]
    }
   ],
   "source": [
    "# 调用多个聚合函数做聚合运算\n",
    "#注意：调用多个函数使用列表将函数放在一起，如果是内置聚合函数则用字符串表示 ，自定义函数直接写函数名\n",
    "print(df_obj.groupby(\"key1\").agg([\"sum\", \"mean\", \"max\", func]))"
   ]
  },
  {
   "cell_type": "code",
   "execution_count": 14,
   "metadata": {
    "collapsed": false
   },
   "outputs": [
    {
     "name": "stdout",
     "output_type": "stream",
     "text": [
      "      data1  data2\n",
      "key1              \n",
      "a       5.8     24\n",
      "b       7.0     13\n"
     ]
    }
   ],
   "source": [
    "# 多个不同数据使用不同的聚合函数\n",
    "# 每列作用不同的聚合函数\n",
    "dict_mapping = {'data1':'mean',\n",
    "                'data2':'sum'}\n",
    "print(df_obj.groupby('key1').agg(dict_mapping))"
   ]
  },
  {
   "cell_type": "code",
   "execution_count": 15,
   "metadata": {
    "collapsed": false
   },
   "outputs": [
    {
     "name": "stdout",
     "output_type": "stream",
     "text": [
      "     data1 data2               \n",
      "      mean   sum      mean func\n",
      "key1                           \n",
      "a      5.8    24  4.800000    7\n",
      "b      7.0    13  4.333333    5\n"
     ]
    }
   ],
   "source": [
    "# 如果某一列使用多个聚合函数，参数是列表\n",
    "dict_mapping  = {'data1':'mean', 'data2':['sum','mean', func]}\n",
    "print(df_obj.groupby('key1').agg(dict_mapping))"
   ]
  },
  {
   "cell_type": "code",
   "execution_count": null,
   "metadata": {
    "collapsed": true
   },
   "outputs": [],
   "source": []
  }
 ],
 "metadata": {
  "kernelspec": {
   "display_name": "Python 3",
   "language": "python",
   "name": "python3"
  },
  "language_info": {
   "codemirror_mode": {
    "name": "ipython",
    "version": 3
   },
   "file_extension": ".py",
   "mimetype": "text/x-python",
   "name": "python",
   "nbconvert_exporter": "python",
   "pygments_lexer": "ipython3",
   "version": "3.6.0"
  }
 },
 "nbformat": 4,
 "nbformat_minor": 2
}
