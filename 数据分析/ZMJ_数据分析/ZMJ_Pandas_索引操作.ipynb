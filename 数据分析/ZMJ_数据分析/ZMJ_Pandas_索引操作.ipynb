{
 "cells": [
  {
   "cell_type": "markdown",
   "metadata": {},
   "source": [
    "# Series对象的索引操作"
   ]
  },
  {
   "cell_type": "code",
   "execution_count": 1,
   "metadata": {
    "collapsed": true
   },
   "outputs": [],
   "source": [
    "import pandas as pd\n",
    "import numpy as np\n"
   ]
  },
  {
   "cell_type": "code",
   "execution_count": 2,
   "metadata": {
    "collapsed": false
   },
   "outputs": [
    {
     "name": "stdout",
     "output_type": "stream",
     "text": [
      "a    10\n",
      "b    11\n",
      "c    12\n",
      "d    13\n",
      "e    14\n",
      "dtype: int32\n"
     ]
    }
   ],
   "source": [
    "# 通过index参数指定Series对象的行索引号\n",
    "ser_obj = pd.Series(range(10, 15), index = [\"a\", \"b\", \"c\", \"d\", \"e\"])\n",
    "print(ser_obj)"
   ]
  },
  {
   "cell_type": "code",
   "execution_count": 3,
   "metadata": {
    "collapsed": false
   },
   "outputs": [
    {
     "name": "stdout",
     "output_type": "stream",
     "text": [
      "12\n",
      "12\n"
     ]
    }
   ],
   "source": [
    "# 通过行索引找到数据\n",
    "print(ser_obj['c'])\n",
    "print(ser_obj[2])\n"
   ]
  },
  {
   "cell_type": "code",
   "execution_count": 4,
   "metadata": {
    "collapsed": false
   },
   "outputs": [
    {
     "name": "stdout",
     "output_type": "stream",
     "text": [
      "b    11\n",
      "c    12\n",
      "d    13\n",
      "dtype: int32\n",
      "b    11\n",
      "c    12\n",
      "d    13\n",
      "dtype: int32\n"
     ]
    }
   ],
   "source": [
    "# 通过切片索引找到数据\n",
    "print(ser_obj['b':'d'])\n",
    "print(ser_obj[1:4])\n"
   ]
  },
  {
   "cell_type": "code",
   "execution_count": 5,
   "metadata": {
    "collapsed": false
   },
   "outputs": [
    {
     "name": "stdout",
     "output_type": "stream",
     "text": [
      "a    10\n",
      "b    11\n",
      "d    13\n",
      "dtype: int32\n",
      "a    10\n",
      "b    11\n",
      "d    13\n",
      "dtype: int32\n"
     ]
    }
   ],
   "source": [
    "# 通过不连续索引找到数据。索引参数是数据的 索引列表\n",
    "print(ser_obj[[0, 1 ,3]])\n",
    "print(ser_obj[['a', 'b', 'd']])"
   ]
  },
  {
   "cell_type": "code",
   "execution_count": 6,
   "metadata": {
    "collapsed": false
   },
   "outputs": [
    {
     "name": "stdout",
     "output_type": "stream",
     "text": [
      "c    12\n",
      "d    13\n",
      "e    14\n",
      "dtype: int32\n",
      "a    10\n",
      "b    11\n",
      "dtype: int32\n"
     ]
    }
   ],
   "source": [
    "# 条件查找\n",
    "a = ser_obj > 11\n",
    "b = ser_obj < 12\n",
    "print(ser_obj[a])\n",
    "print(ser_obj[b])"
   ]
  },
  {
   "cell_type": "markdown",
   "metadata": {},
   "source": [
    "# DataFrame 对象的索引操作"
   ]
  },
  {
   "cell_type": "code",
   "execution_count": 10,
   "metadata": {
    "collapsed": false
   },
   "outputs": [
    {
     "name": "stdout",
     "output_type": "stream",
     "text": [
      "          A         B         C         D         E\n",
      "a  0.393078  0.755034  0.281337  0.602575  0.616455\n",
      "b  0.392678  0.129764  0.090930  0.680418  0.831275\n",
      "c  0.576866  0.951882  0.008754  0.874356  0.692286\n",
      "d  0.816547  0.048103  0.102378  0.052046  0.366409\n",
      "e  0.884685  0.049395  0.134929  0.111296  0.858815\n"
     ]
    }
   ],
   "source": [
    "# 3 通过index参数指定DataFrame对象的行索引号\n",
    "# 通过columns参数指定DataFrame对象的列索引号\n",
    "df_obj6 = pd.DataFrame(\n",
    "        np.random.rand(5, 5),\n",
    "        index = [\"a\", \"b\", \"c\", \"d\", \"e\"],\n",
    "        columns = ['A', 'B','C','D','E']\n",
    "    )\n",
    "print(df_obj6)\n"
   ]
  },
  {
   "cell_type": "code",
   "execution_count": 12,
   "metadata": {
    "collapsed": false
   },
   "outputs": [
    {
     "name": "stdout",
     "output_type": "stream",
     "text": [
      "a    0.281337\n",
      "b    0.090930\n",
      "c    0.008754\n",
      "d    0.102378\n",
      "e    0.134929\n",
      "Name: C, dtype: float64\n",
      "a    0.281337\n",
      "b    0.090930\n",
      "c    0.008754\n",
      "d    0.102378\n",
      "e    0.134929\n",
      "Name: C, dtype: float64\n",
      "          C\n",
      "a  0.281337\n",
      "b  0.090930\n",
      "c  0.008754\n",
      "d  0.102378\n",
      "e  0.134929\n"
     ]
    }
   ],
   "source": [
    "# 列索引 找到指定列\n",
    "# 有列名称，没有行名\n",
    "print(df_obj6.C)\n",
    "print(df_obj6['C'])\n",
    "print(df_obj6[[2]])\n"
   ]
  },
  {
   "cell_type": "code",
   "execution_count": 13,
   "metadata": {
    "collapsed": false
   },
   "outputs": [
    {
     "name": "stdout",
     "output_type": "stream",
     "text": [
      "          B         D         E\n",
      "a  0.035327  0.817530  0.410539\n",
      "b  0.190182  0.293765  0.912102\n",
      "c  0.560440  0.116709  0.562393\n",
      "d  0.917094  0.334340  0.140277\n",
      "e  0.194486  0.110687  0.027988\n",
      "          B         D         E\n",
      "a  0.035327  0.817530  0.410539\n",
      "b  0.190182  0.293765  0.912102\n",
      "c  0.560440  0.116709  0.562393\n",
      "d  0.917094  0.334340  0.140277\n",
      "e  0.194486  0.110687  0.027988\n"
     ]
    }
   ],
   "source": [
    "# DataFrame 对象的不连续索引，参数是需要匹配，列索引是列表\n",
    "print(df_obj[[\"B\", \"D\", \"E\"]])\n",
    "print(df_obj[[1, 3, 4]])"
   ]
  },
  {
   "cell_type": "markdown",
   "metadata": {},
   "source": [
    "# 高级索引，标签，位置和混合索引"
   ]
  },
  {
   "cell_type": "markdown",
   "metadata": {},
   "source": [
    "### loc 标签索引"
   ]
  },
  {
   "cell_type": "code",
   "execution_count": 14,
   "metadata": {
    "collapsed": false
   },
   "outputs": [
    {
     "name": "stdout",
     "output_type": "stream",
     "text": [
      "b    11\n",
      "c    12\n",
      "d    13\n",
      "dtype: int32\n",
      "b    11\n",
      "c    12\n",
      "d    13\n",
      "dtype: int32\n"
     ]
    }
   ],
   "source": [
    "# Series 对象可以通过切片， 也可以通过loc来索引\n",
    "print(ser_obj['b':'d'])\n",
    "print(ser_obj.loc['b':'d'])"
   ]
  },
  {
   "cell_type": "code",
   "execution_count": 17,
   "metadata": {
    "collapsed": false
   },
   "outputs": [
    {
     "name": "stdout",
     "output_type": "stream",
     "text": [
      "          D         E\n",
      "a  0.817530  0.410539\n",
      "b  0.293765  0.912102\n",
      "c  0.116709  0.562393\n",
      "**********\n",
      "0.293765168824\n"
     ]
    }
   ],
   "source": [
    "# DataFrame对象不能直接通过切片来索引，但是可以通过loc来做切片索引\n",
    "# []里的参数 第一个是行切片索引，第二个是 列切片索引\n",
    "print(df_obj.loc['a':'c', 'D':'E'])\n",
    "print('*'*10)\n",
    "# 通过loc找到b行，D列的数据\n",
    "print(df_obj.loc['b', 'D'])\n"
   ]
  },
  {
   "cell_type": "markdown",
   "metadata": {},
   "source": [
    "### iloc 位置索引"
   ]
  },
  {
   "cell_type": "code",
   "execution_count": 18,
   "metadata": {
    "collapsed": false
   },
   "outputs": [
    {
     "name": "stdout",
     "output_type": "stream",
     "text": [
      "a    10\n",
      "b    11\n",
      "c    12\n",
      "d    13\n",
      "e    14\n",
      "dtype: int32\n",
      "          A         B         C         D         E\n",
      "a  0.060446  0.035327  0.193643  0.817530  0.410539\n",
      "b  0.725114  0.190182  0.618071  0.293765  0.912102\n",
      "c  0.492970  0.560440  0.275894  0.116709  0.562393\n",
      "d  0.370061  0.917094  0.313255  0.334340  0.140277\n",
      "e  0.377745  0.194486  0.886315  0.110687  0.027988\n"
     ]
    }
   ],
   "source": [
    "print(ser_obj)\n",
    "print(df_obj)"
   ]
  },
  {
   "cell_type": "code",
   "execution_count": 19,
   "metadata": {
    "collapsed": false
   },
   "outputs": [
    {
     "name": "stdout",
     "output_type": "stream",
     "text": [
      "b    11\n",
      "c    12\n",
      "dtype: int32\n",
      "b    11\n",
      "c    12\n",
      "dtype: int32\n"
     ]
    }
   ],
   "source": [
    "print(ser_obj[1:3])\n",
    "print(ser_obj.iloc[1:3])\n"
   ]
  },
  {
   "cell_type": "code",
   "execution_count": 20,
   "metadata": {
    "collapsed": false
   },
   "outputs": [
    {
     "name": "stdout",
     "output_type": "stream",
     "text": [
      "          C         D\n",
      "b  0.618071  0.293765\n",
      "c  0.275894  0.116709\n"
     ]
    }
   ],
   "source": [
    "## DataFrame对象不能直接通过切片来索引，但是可以通过iloc来做切片索引\n",
    "# [] 里的参数 第一个是 行切片索引， 第二个是 列切片索引\n",
    "print(df_obj.iloc[1:3, 2:4])"
   ]
  },
  {
   "cell_type": "markdown",
   "metadata": {},
   "source": [
    "### ix 混合索引（以上两者的综合）"
   ]
  },
  {
   "cell_type": "code",
   "execution_count": 21,
   "metadata": {
    "collapsed": false
   },
   "outputs": [
    {
     "name": "stdout",
     "output_type": "stream",
     "text": [
      "b    11\n",
      "c    12\n",
      "dtype: int32\n",
      "b    11\n",
      "c    12\n",
      "dtype: int32\n"
     ]
    }
   ],
   "source": [
    "print(ser_obj.ix[1:3])\n",
    "print(ser_obj.ix['b':'c'])"
   ]
  },
  {
   "cell_type": "code",
   "execution_count": 22,
   "metadata": {
    "collapsed": false
   },
   "outputs": [
    {
     "name": "stdout",
     "output_type": "stream",
     "text": [
      "          C         D\n",
      "b  0.618071  0.293765\n",
      "c  0.275894  0.116709\n",
      "          C         D\n",
      "b  0.618071  0.293765\n",
      "c  0.275894  0.116709\n",
      "0.334340337387\n"
     ]
    }
   ],
   "source": [
    "# ix 混合索引既可以用标签，也可以用位置，但是不推荐使用，容易造成索引混乱\n",
    "print(df_obj.ix[1:3, 2:4])\n",
    "print(df_obj.ix['b':'c', 'C':'D'])\n",
    "print(df_obj.ix[3, 'D'])"
   ]
  },
  {
   "cell_type": "code",
   "execution_count": null,
   "metadata": {
    "collapsed": true
   },
   "outputs": [],
   "source": []
  }
 ],
 "metadata": {
  "kernelspec": {
   "display_name": "Python 3",
   "language": "python",
   "name": "python3"
  },
  "language_info": {
   "codemirror_mode": {
    "name": "ipython",
    "version": 3
   },
   "file_extension": ".py",
   "mimetype": "text/x-python",
   "name": "python",
   "nbconvert_exporter": "python",
   "pygments_lexer": "ipython3",
   "version": "3.6.0"
  }
 },
 "nbformat": 4,
 "nbformat_minor": 2
}
