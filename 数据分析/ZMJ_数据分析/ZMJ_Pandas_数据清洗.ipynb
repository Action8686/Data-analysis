{
 "cells": [
  {
   "cell_type": "code",
   "execution_count": 1,
   "metadata": {
    "collapsed": true
   },
   "outputs": [],
   "source": [
    "import numpy as np\n",
    "import pandas as pd\n"
   ]
  },
  {
   "cell_type": "markdown",
   "metadata": {},
   "source": [
    "# 重复数据处理\n"
   ]
  },
  {
   "cell_type": "code",
   "execution_count": 5,
   "metadata": {
    "collapsed": false
   },
   "outputs": [
    {
     "name": "stdout",
     "output_type": "stream",
     "text": [
      "0    False\n",
      "1    False\n",
      "2    False\n",
      "3     True\n",
      "4    False\n",
      "5     True\n",
      "6    False\n",
      "7     True\n",
      "dtype: bool\n"
     ]
    }
   ],
   "source": [
    "# 1.dumplicated判断是否有重复的数据\n",
    "df_obj = pd.DataFrame({\"data1\":['a']*4 + ['b']*4,\n",
    "                      \"data2\": np.random.randint(0, 4, 8)})\n",
    "df_obj\n",
    "# 每一行和之前的行进行判断，如果和之前的行有重复，则返回True，否则返回False\n",
    "print(df_obj.duplicated())"
   ]
  },
  {
   "cell_type": "code",
   "execution_count": 9,
   "metadata": {
    "collapsed": false
   },
   "outputs": [
    {
     "name": "stdout",
     "output_type": "stream",
     "text": [
      "  data1  data2\n",
      "0     a      1\n",
      "1     a      2\n",
      "2     a      0\n",
      "4     b      0\n",
      "6     b      3\n",
      "  data1  data2\n",
      "0     a      1\n",
      "1     a      2\n",
      "2     a      0\n",
      "6     b      3\n"
     ]
    }
   ],
   "source": [
    "# 2.过滤重复数据，如果某一行数据、和之前有重复，则去除那一行\n",
    "print(df_obj.drop_duplicates())\n",
    "# 可以指定按某一行进行判断\n",
    "print(df_obj.drop_duplicates(\"data2\"))\n"
   ]
  },
  {
   "cell_type": "markdown",
   "metadata": {},
   "source": [
    "# 替换指定数据"
   ]
  },
  {
   "cell_type": "code",
   "execution_count": 10,
   "metadata": {
    "collapsed": false
   },
   "outputs": [
    {
     "name": "stdout",
     "output_type": "stream",
     "text": [
      "0    5\n",
      "1    6\n",
      "2    1\n",
      "3    4\n",
      "4    6\n",
      "5    8\n",
      "6    6\n",
      "7    9\n",
      "8    4\n",
      "9    0\n",
      "dtype: int32\n"
     ]
    }
   ],
   "source": [
    "ser_obj = pd.Series(np.random.randint(0, 10, 10))\n",
    "print(ser_obj)"
   ]
  },
  {
   "cell_type": "code",
   "execution_count": 12,
   "metadata": {
    "collapsed": false
   },
   "outputs": [
    {
     "name": "stdout",
     "output_type": "stream",
     "text": [
      "0    10\n",
      "1     6\n",
      "2     1\n",
      "3     4\n",
      "4     6\n",
      "5     8\n",
      "6     6\n",
      "7     9\n",
      "8     4\n",
      "9     0\n",
      "dtype: int32\n",
      "0    100\n",
      "1      6\n",
      "2      1\n",
      "3    100\n",
      "4      6\n",
      "5      8\n",
      "6      6\n",
      "7      9\n",
      "8    100\n",
      "9      0\n",
      "dtype: int32\n"
     ]
    }
   ],
   "source": [
    "# replace() 用来替换某个值，接收两个参数，将第一个参数的数值替换为，第二个参数的数值\n",
    "# 如果替换NaN 则使用fillna()\n",
    "print(ser_obj.replace(5, 10))\n",
    "# 如果要替换多个数值，则第一个参数传入一个可迭代对象，包含所有需要替换的数值\n",
    "print(ser_obj.replace([4, 5], 100))\n"
   ]
  },
  {
   "cell_type": "code",
   "execution_count": null,
   "metadata": {
    "collapsed": true
   },
   "outputs": [],
   "source": []
  }
 ],
 "metadata": {
  "kernelspec": {
   "display_name": "Python 3",
   "language": "python",
   "name": "python3"
  },
  "language_info": {
   "codemirror_mode": {
    "name": "ipython",
    "version": 3
   },
   "file_extension": ".py",
   "mimetype": "text/x-python",
   "name": "python",
   "nbconvert_exporter": "python",
   "pygments_lexer": "ipython3",
   "version": "3.6.0"
  }
 },
 "nbformat": 4,
 "nbformat_minor": 2
}
