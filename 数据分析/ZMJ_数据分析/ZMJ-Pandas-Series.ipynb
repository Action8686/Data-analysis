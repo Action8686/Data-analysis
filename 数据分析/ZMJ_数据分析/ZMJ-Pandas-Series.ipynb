{
 "cells": [
  {
   "cell_type": "markdown",
   "metadata": {},
   "source": [
    "## 构建Series对象"
   ]
  },
  {
   "cell_type": "markdown",
   "metadata": {},
   "source": [
    "通过list来构建\n"
   ]
  },
  {
   "cell_type": "code",
   "execution_count": 1,
   "metadata": {
    "collapsed": true
   },
   "outputs": [],
   "source": [
    "# 导入pandas\n",
    "import pandas as pd\n"
   ]
  },
  {
   "cell_type": "code",
   "execution_count": 4,
   "metadata": {
    "collapsed": false
   },
   "outputs": [
    {
     "name": "stdout",
     "output_type": "stream",
     "text": [
      "0    15\n",
      "1    16\n",
      "2    17\n",
      "3    18\n",
      "4    19\n",
      "5    20\n",
      "6    21\n",
      "7    22\n",
      "8    23\n",
      "9    24\n",
      "dtype: int32\n",
      "[15 16 17 18 19 20 21 22 23 24]\n",
      "RangeIndex(start=0, stop=10, step=1)\n"
     ]
    }
   ],
   "source": [
    "lst = range(15, 25)\n",
    "#Series是一种类似于一维数组的 对象，由一组数据（各种NumPy数据类型）以及一组与之对应的索引（数据标签）组成。\n",
    "ser_obj = pd.Series(lst)\n",
    "print(ser_obj)\n",
    "\n",
    "# 通过索引回去元素\n",
    "# print(ser_obj[6])\n",
    "# 获取数据和索引\n",
    "print(ser_obj.values)\n",
    "print(ser_obj.index)"
   ]
  },
  {
   "cell_type": "markdown",
   "metadata": {},
   "source": [
    "# 2.通过字典来构建Series"
   ]
  },
  {
   "cell_type": "code",
   "execution_count": 5,
   "metadata": {
    "collapsed": true
   },
   "outputs": [],
   "source": [
    "dic = {1000: \"hello\", 2000: \"world\", 3000: \"!\"}\n"
   ]
  },
  {
   "cell_type": "code",
   "execution_count": 6,
   "metadata": {
    "collapsed": false
   },
   "outputs": [
    {
     "name": "stdout",
     "output_type": "stream",
     "text": [
      "1000    hello\n",
      "2000    world\n",
      "3000        !\n",
      "dtype: object\n"
     ]
    }
   ],
   "source": [
    "ser_obj2 = pd.Series(dic)\n",
    "print(ser_obj2)"
   ]
  },
  {
   "cell_type": "code",
   "execution_count": 7,
   "metadata": {
    "collapsed": false
   },
   "outputs": [
    {
     "name": "stdout",
     "output_type": "stream",
     "text": [
      "class\n",
      "1000    hello\n",
      "2000    world\n",
      "3000        !\n",
      "Name: class_list, dtype: object\n",
      "class\n",
      "1000    hello\n",
      "2000    world\n",
      "3000        !\n",
      "Name: class_list, dtype: object\n"
     ]
    }
   ],
   "source": [
    "#对象索引名：ser_obj.index.name\n",
    "ser_obj2.index.name = \"class\"\n",
    "#对象名：ser_obj.name\n",
    "ser_obj2.name = \"class_list\"\n",
    "print(ser_obj2)\n",
    "print(ser_obj2.head())"
   ]
  },
  {
   "cell_type": "code",
   "execution_count": null,
   "metadata": {
    "collapsed": true
   },
   "outputs": [],
   "source": []
  }
 ],
 "metadata": {
  "kernelspec": {
   "display_name": "Python 3",
   "language": "python",
   "name": "python3"
  },
  "language_info": {
   "codemirror_mode": {
    "name": "ipython",
    "version": 3
   },
   "file_extension": ".py",
   "mimetype": "text/x-python",
   "name": "python",
   "nbconvert_exporter": "python",
   "pygments_lexer": "ipython3",
   "version": "3.6.0"
  }
 },
 "nbformat": 4,
 "nbformat_minor": 2
}
