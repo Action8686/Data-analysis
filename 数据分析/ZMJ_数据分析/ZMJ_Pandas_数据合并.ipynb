{
 "cells": [
  {
   "cell_type": "markdown",
   "metadata": {},
   "source": [
    "# 数据合并(pd.concat)"
   ]
  },
  {
   "cell_type": "code",
   "execution_count": 1,
   "metadata": {
    "collapsed": true
   },
   "outputs": [],
   "source": [
    "# 表示相同字段的数据进行首尾连接"
   ]
  },
  {
   "cell_type": "code",
   "execution_count": 14,
   "metadata": {
    "collapsed": true
   },
   "outputs": [],
   "source": [
    "import numpy as np\n",
    "import pandas as pd\n"
   ]
  },
  {
   "cell_type": "code",
   "execution_count": 15,
   "metadata": {
    "collapsed": false
   },
   "outputs": [
    {
     "name": "stdout",
     "output_type": "stream",
     "text": [
      "[[5 6 2 0]\n",
      " [8 7 8 1]\n",
      " [1 2 7 9]]\n",
      "[[3 4 8 0]\n",
      " [7 1 1 0]\n",
      " [4 6 8 2]]\n",
      "**************************************************\n",
      "[[5 6 2 0]\n",
      " [8 7 8 1]\n",
      " [1 2 7 9]\n",
      " [3 4 8 0]\n",
      " [7 1 1 0]\n",
      " [4 6 8 2]]\n",
      "**********\n",
      "[[5 6 2 0 3 4 8 0]\n",
      " [8 7 8 1 7 1 1 0]\n",
      " [1 2 7 9 4 6 8 2]]\n"
     ]
    }
   ],
   "source": [
    "# 1.Numpy 里的concatenate\n",
    "arr1 = np.random.randint(0,10,(3,4))\n",
    "arr2 = np.random.randint(0,10,(3,4))\n",
    "print(arr1)\n",
    "print(arr2)\n",
    "print(\"*\"*50)\n",
    "# 默认轴的方向是列，两个数组列部分首尾连接（6*3）\n",
    "print(np.concatenate([arr1, arr2]))\n",
    "print(\"*\"*10)\n",
    "# axis的轴方向是行， 那么就是两个数的行部分首尾连接（3*6）\n",
    "print(np.concatenate([arr1, arr2], axis = 1))"
   ]
  },
  {
   "cell_type": "code",
   "execution_count": 16,
   "metadata": {
    "collapsed": true
   },
   "outputs": [],
   "source": [
    "# 2.pandas里的concat"
   ]
  },
  {
   "cell_type": "code",
   "execution_count": 19,
   "metadata": {
    "collapsed": false
   },
   "outputs": [
    {
     "name": "stdout",
     "output_type": "stream",
     "text": [
      "0    8\n",
      "1    1\n",
      "2    9\n",
      "3    0\n",
      "4    4\n",
      "dtype: int32\n",
      "5    6\n",
      "6    9\n",
      "7    3\n",
      "8    4\n",
      "dtype: int32\n",
      "9     5\n",
      "10    3\n",
      "11    7\n",
      "dtype: int32\n",
      "0     8\n",
      "1     1\n",
      "2     9\n",
      "3     0\n",
      "4     4\n",
      "5     6\n",
      "6     9\n",
      "7     3\n",
      "8     4\n",
      "9     5\n",
      "10    3\n",
      "11    7\n",
      "dtype: int32\n"
     ]
    }
   ],
   "source": [
    "# 2.1 index没有重复的情况\n",
    "ser_obj1 = pd.Series(np.random.randint(0, 10, 5), index = range(0,5))\n",
    "ser_obj2 = pd.Series(np.random.randint(0, 10, 4), index = range(5,9))\n",
    "ser_obj3 = pd.Series(np.random.randint(0, 10, 3), index = range(9, 12))\n",
    "print(ser_obj1)\n",
    "print(ser_obj2)\n",
    "print(ser_obj3)\n",
    "# 默认是按列运行连接，默认是外连接\n",
    "print(pd.concat([ser_obj1, ser_obj2, ser_obj3]))\n",
    "# axis = 1 按行连接， 默认为外连接\n",
    "# print(pd.concat([ser_obj1,ser_obj2, ser_obj3], axis  = 1))\n",
    "# 默认“outer”是外连接， json = ‘outer’表示为内连接，（数据是交集）\n",
    "#print(pd.concat([ser_obj1, ser_obj2, ser_obj3], axis = 1, join=\"inner\"))\n",
    "\n",
    "# print(pd.concat([ser_obj1, ser_obj2, ser_obj3], join=\"inner\"))"
   ]
  },
  {
   "cell_type": "code",
   "execution_count": 22,
   "metadata": {
    "collapsed": false
   },
   "outputs": [
    {
     "name": "stdout",
     "output_type": "stream",
     "text": [
      "0    0\n",
      "1    0\n",
      "2    7\n",
      "3    4\n",
      "4    5\n",
      "dtype: int32\n",
      "0    5\n",
      "1    4\n",
      "2    9\n",
      "3    3\n",
      "dtype: int32\n",
      "0    4\n",
      "1    9\n",
      "2    9\n",
      "dtype: int32\n",
      "**************************************************\n",
      "   0  1  2\n",
      "0  0  5  4\n",
      "1  0  4  9\n",
      "2  7  9  9\n"
     ]
    }
   ],
   "source": [
    "# 2.2 index有重复的情况\n",
    "ser_obj1 = pd.Series(np.random.randint(0, 10, 5), index = range(5))\n",
    "ser_obj2 = pd.Series(np.random.randint(0, 10, 4), index = range(4))\n",
    "ser_obj3 = pd.Series(np.random.randint(0, 10, 3), index = range(3))\n",
    "print(ser_obj1)\n",
    "print(ser_obj2)\n",
    "print(ser_obj3)\n",
    "print(\"*\"*50)\n",
    "# 默认是按列进行连接，默认外连接\n",
    "#print(pd.concat([ser_obj1, ser_obj2, ser_obj3]))\n",
    "\n",
    "# axis = 1 按行连接，默认外连接\n",
    "#print(pd.concat([ser_obj1, ser_obj2, ser_obj3], axis = 1))\n",
    "\n",
    "# 默认\"outer\"是外连接，join = \"inner\" 表示内连接（数据是交集）\n",
    "# 如果没有交集的数据，则去除NaN所在的行/列\n",
    "print(pd.concat([ser_obj1, ser_obj2, ser_obj3], axis = 1, join=\"inner\"))\n",
    "\n",
    "# print(pd.concat([ser_obj1, ser_obj2, ser_obj3], join=\"inner\"))"
   ]
  },
  {
   "cell_type": "code",
   "execution_count": 26,
   "metadata": {
    "collapsed": false
   },
   "outputs": [
    {
     "name": "stdout",
     "output_type": "stream",
     "text": [
      "   A  B\n",
      "a  7  0\n",
      "b  4  4\n",
      "c  9  9\n",
      "   C  D\n",
      "a  5  7\n",
      "b  5  1\n"
     ]
    }
   ],
   "source": [
    "# DataFrame \n",
    "df_obj1 = pd.DataFrame(np.random.randint(0, 10, (3, 2)), index=['a', 'b', 'c'],\n",
    "                       columns=['A', 'B'])\n",
    "df_obj2 = pd.DataFrame(np.random.randint(0, 10, (2, 2)), index=['a', 'b'],\n",
    "                       columns=['C', 'D'])\n",
    "print(df_obj1)\n",
    "print(df_obj2)"
   ]
  },
  {
   "cell_type": "code",
   "execution_count": 27,
   "metadata": {
    "collapsed": false
   },
   "outputs": [
    {
     "name": "stdout",
     "output_type": "stream",
     "text": [
      "   A  B  C  D\n",
      "a  7  0  5  7\n",
      "b  4  4  5  1\n"
     ]
    }
   ],
   "source": [
    "#　默认是按行连接\n",
    "#print(pd.concat([df_obj1, df_obj2]))\n",
    "# 指定轴方向，通知按内连接(NaN所在的行/列将被去除)\n",
    "print(pd.concat([df_obj1, df_obj2], axis = 1, join= \"inner\"))"
   ]
  },
  {
   "cell_type": "code",
   "execution_count": null,
   "metadata": {
    "collapsed": true
   },
   "outputs": [],
   "source": []
  }
 ],
 "metadata": {
  "kernelspec": {
   "display_name": "Python 3",
   "language": "python",
   "name": "python3"
  },
  "language_info": {
   "codemirror_mode": {
    "name": "ipython",
    "version": 3
   },
   "file_extension": ".py",
   "mimetype": "text/x-python",
   "name": "python",
   "nbconvert_exporter": "python",
   "pygments_lexer": "ipython3",
   "version": "3.6.0"
  }
 },
 "nbformat": 4,
 "nbformat_minor": 2
}
