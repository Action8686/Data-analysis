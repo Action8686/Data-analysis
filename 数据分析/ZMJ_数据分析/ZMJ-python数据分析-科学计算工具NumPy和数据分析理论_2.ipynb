{
 "cells": [
  {
   "cell_type": "markdown",
   "metadata": {},
   "source": [
    "## ndarray的矩阵运算"
   ]
  },
  {
   "cell_type": "code",
   "execution_count": 1,
   "metadata": {
    "collapsed": true
   },
   "outputs": [],
   "source": [
    "import numpy as np\n"
   ]
  },
  {
   "cell_type": "code",
   "execution_count": 2,
   "metadata": {
    "collapsed": false
   },
   "outputs": [
    {
     "name": "stdout",
     "output_type": "stream",
     "text": [
      "[0 1 2 3 4 5 6 7 8 9]\n"
     ]
    }
   ],
   "source": [
    "arr = np.arange(10)\n",
    "print(arr)"
   ]
  },
  {
   "cell_type": "code",
   "execution_count": 3,
   "metadata": {
    "collapsed": false
   },
   "outputs": [
    {
     "name": "stdout",
     "output_type": "stream",
     "text": [
      "[ 0  1  4  9 16 25 36 49 64 81]\n",
      "[ 0  2  4  6  8 10 12 14 16 18]\n"
     ]
    }
   ],
   "source": [
    "# 矩阵之间的运算，是按矩阵级的运算，每一个元素和对应索引的运算进行运算\n",
    "print(arr*arr)\n",
    "print(arr+arr)"
   ]
  },
  {
   "cell_type": "code",
   "execution_count": 4,
   "metadata": {
    "collapsed": false
   },
   "outputs": [
    {
     "name": "stdout",
     "output_type": "stream",
     "text": [
      "[ 1  2  3  4  5  6  7  8  9 10]\n",
      "[ 0  2  4  6  8 10 12 14 16 18]\n"
     ]
    }
   ],
   "source": [
    "# 广播运算，将标量的广播到数组的各个元素上\n",
    "print(1+arr)\n",
    "print(2*arr)\n"
   ]
  },
  {
   "cell_type": "markdown",
   "metadata": {},
   "source": [
    "## ndarray的切片、索引操作"
   ]
  },
  {
   "cell_type": "code",
   "execution_count": 6,
   "metadata": {
    "collapsed": false
   },
   "outputs": [
    {
     "name": "stdout",
     "output_type": "stream",
     "text": [
      "[0 1 2 3 4 5 6 7 8 9]\n",
      "[5 6 7]\n"
     ]
    }
   ],
   "source": [
    "# 1.一维数组的索引和切片操作\n",
    "arr1 = np.arange(10)\n",
    "print(arr1)\n",
    "print(arr1[5:8])"
   ]
  },
  {
   "cell_type": "code",
   "execution_count": 11,
   "metadata": {
    "collapsed": false
   },
   "outputs": [
    {
     "name": "stdout",
     "output_type": "stream",
     "text": [
      "[[0 1 2 3 4]\n",
      " [5 6 7 8 9]]\n",
      "[5 6 7]\n",
      "[[0 1 2]\n",
      " [5 6 7]]\n"
     ]
    }
   ],
   "source": [
    "# 2.多维数组的索引和切片操作\n",
    "\n",
    "arr2 = np.arange(10).reshape(2, 5)\n",
    "print(arr2)\n",
    "# 二维数组的索引和切片操作，[]里的第一个数字表示行所在的索引，第二个表示列所在的索引\n",
    "print(arr2[1, :3])\n",
    "# 如果某个数字只有一个 冒号:，那就表示全部匹配\n",
    "print(arr2[: , :3])"
   ]
  },
  {
   "cell_type": "markdown",
   "metadata": {},
   "source": [
    "## ndarray的条件索引"
   ]
  },
  {
   "cell_type": "code",
   "execution_count": 13,
   "metadata": {
    "collapsed": false
   },
   "outputs": [
    {
     "name": "stdout",
     "output_type": "stream",
     "text": [
      "[[ 2010  1022 24092]\n",
      " [  121 12443    25]\n",
      " [  354    67   787]]\n"
     ]
    }
   ],
   "source": [
    "a = np.array([[2010, 1022, 24092], [121, 12443, 25], [354, 67, 787]])\n",
    "print(a)"
   ]
  },
  {
   "cell_type": "code",
   "execution_count": 15,
   "metadata": {
    "collapsed": false
   },
   "outputs": [
    {
     "name": "stdout",
     "output_type": "stream",
     "text": [
      "[[ True False  True]\n",
      " [False  True False]\n",
      " [False False False]]\n"
     ]
    }
   ],
   "source": [
    "# 将数组的每个元素和条件进行匹配，返回每个元素的匹配结果，是bool值\n",
    "b = a>2000\n",
    "print(b)"
   ]
  },
  {
   "cell_type": "code",
   "execution_count": 16,
   "metadata": {
    "collapsed": false
   },
   "outputs": [
    {
     "name": "stdout",
     "output_type": "stream",
     "text": [
      "[[ 1.34908424  0.03004682 -2.02255103]\n",
      " [-0.13208472  0.23939292  0.37355604]\n",
      " [ 0.55675008 -0.22063762 -0.28812348]]\n"
     ]
    }
   ],
   "source": [
    "arr2 = np.random.randn(3, 3)\n",
    "print(arr2)"
   ]
  },
  {
   "cell_type": "code",
   "execution_count": 18,
   "metadata": {
    "collapsed": false
   },
   "outputs": [
    {
     "name": "stdout",
     "output_type": "stream",
     "text": [
      "[ 1.34908424 -2.02255103  0.23939292]\n"
     ]
    }
   ],
   "source": [
    "# 将bool数组，映射到arr2,返回匹配为true的数值，返回的一维数组\n",
    "new_arr2 = arr2[b]\n",
    "print(new_arr2)"
   ]
  },
  {
   "cell_type": "code",
   "execution_count": 20,
   "metadata": {
    "collapsed": false
   },
   "outputs": [
    {
     "name": "stdout",
     "output_type": "stream",
     "text": [
      "[ 1.34908424  0.03004682 -0.13208472  0.37355604  0.55675008 -0.22063762\n",
      " -0.28812348]\n"
     ]
    }
   ],
   "source": [
    "# 2.可以同时制定多个条件索引，&表示所有条件都符合，结果才为True，|表条件符合，只要有一个符合条件结果就是True\n",
    "# 实例中：将多个条件索引返回的匹配结果，映射到新的数组上，返回匹配为true的一维数组\n",
    "new_arr2 = arr2[(a>1)&(a<10000)]\n",
    "print(new_arr2)"
   ]
  },
  {
   "cell_type": "markdown",
   "metadata": {},
   "source": [
    "## ndarray的维数转换 transpose()"
   ]
  },
  {
   "cell_type": "code",
   "execution_count": 25,
   "metadata": {
    "collapsed": false
   },
   "outputs": [
    {
     "name": "stdout",
     "output_type": "stream",
     "text": [
      "[[ 0.4436276   0.10188303  0.91512317  0.54276986]\n",
      " [ 0.17110179  0.53730995  0.67721354  0.0012474 ]\n",
      " [ 0.85587238  0.76458056  0.35069948  0.17626608]]\n",
      "---------------\n",
      "[[ 0.4436276   0.17110179  0.85587238]\n",
      " [ 0.10188303  0.53730995  0.76458056]\n",
      " [ 0.91512317  0.67721354  0.35069948]\n",
      " [ 0.54276986  0.0012474   0.17626608]]\n"
     ]
    }
   ],
   "source": [
    "# transponse()将转换原数组的维度，如果是二维数组不需要指定参数\n",
    "arr2 = np.random.rand(3,4)\n",
    "print(arr2)\n",
    "print(\"---------------\")\n",
    "print(arr2.transpose())"
   ]
  },
  {
   "cell_type": "code",
   "execution_count": 28,
   "metadata": {
    "collapsed": false
   },
   "outputs": [
    {
     "name": "stdout",
     "output_type": "stream",
     "text": [
      "[[[ 0.70335763  0.20772979  0.97008075  0.98744339]\n",
      "  [ 0.02941858  0.03282165  0.74315847  0.76207509]\n",
      "  [ 0.86487291  0.02356911  0.4578792   0.60194893]]\n",
      "\n",
      " [[ 0.56612036  0.26512351  0.925407    0.08102814]\n",
      "  [ 0.47334917  0.38101436  0.21830038  0.18570292]\n",
      "  [ 0.59132532  0.64750665  0.27868175  0.86660637]]]\n",
      "-----\n",
      "[[[ 0.70335763  0.02941858  0.86487291]\n",
      "  [ 0.56612036  0.47334917  0.59132532]]\n",
      "\n",
      " [[ 0.20772979  0.03282165  0.02356911]\n",
      "  [ 0.26512351  0.38101436  0.64750665]]\n",
      "\n",
      " [[ 0.97008075  0.74315847  0.4578792 ]\n",
      "  [ 0.925407    0.21830038  0.27868175]]\n",
      "\n",
      " [[ 0.98744339  0.76207509  0.60194893]\n",
      "  [ 0.08102814  0.18570292  0.86660637]]]\n"
     ]
    }
   ],
   "source": [
    "# 如果是多维数组，如3维数组，则transpose()里的参数是一个元祖。原则的每个元素都是原来数组维度的索引值\n",
    "# 4对应的索引是2， 3对应的索引是1， 2对应的索引是0， 则转换是写上索引即可\n",
    "arr3 = np.random.rand(2,3,4)\n",
    "print(arr3)\n",
    "print(\"-----\")\n",
    "print(arr3.transpose(2,0,1))"
   ]
  },
  {
   "cell_type": "code",
   "execution_count": null,
   "metadata": {
    "collapsed": true
   },
   "outputs": [],
   "source": []
  },
  {
   "cell_type": "code",
   "execution_count": null,
   "metadata": {
    "collapsed": true
   },
   "outputs": [],
   "source": []
  }
 ],
 "metadata": {
  "kernelspec": {
   "display_name": "Python 3",
   "language": "python",
   "name": "python3"
  },
  "language_info": {
   "codemirror_mode": {
    "name": "ipython",
    "version": 3
   },
   "file_extension": ".py",
   "mimetype": "text/x-python",
   "name": "python",
   "nbconvert_exporter": "python",
   "pygments_lexer": "ipython3",
   "version": "3.6.0"
  }
 },
 "nbformat": 4,
 "nbformat_minor": 2
}
