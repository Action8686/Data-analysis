{
 "cells": [
  {
   "cell_type": "markdown",
   "metadata": {},
   "source": [
    "## DataFrame 数据结构\n"
   ]
  },
  {
   "cell_type": "code",
   "execution_count": 1,
   "metadata": {
    "collapsed": true
   },
   "outputs": [],
   "source": [
    "import pandas as pd\n",
    "import numpy as np\n"
   ]
  },
  {
   "cell_type": "code",
   "execution_count": 3,
   "metadata": {
    "collapsed": false
   },
   "outputs": [],
   "source": [
    "# 1.通过ndarray构建DataFrame\n"
   ]
  },
  {
   "cell_type": "code",
   "execution_count": 5,
   "metadata": {
    "collapsed": false
   },
   "outputs": [
    {
     "data": {
      "text/plain": [
       "array([[ 0.77537743,  0.82948071,  0.34694963,  0.98242728],\n",
       "       [ 0.05551271,  0.61069747,  0.09869608,  0.0046936 ],\n",
       "       [ 0.40096883,  0.49439464,  0.99844928,  0.73498934]])"
      ]
     },
     "execution_count": 5,
     "metadata": {},
     "output_type": "execute_result"
    }
   ],
   "source": [
    "arr_obj = np.random.rand(3, 4)\n",
    "#print(arr_obj)\n",
    "arr_obj"
   ]
  },
  {
   "cell_type": "code",
   "execution_count": 9,
   "metadata": {
    "collapsed": false
   },
   "outputs": [
    {
     "data": {
      "text/html": [
       "<div>\n",
       "<table border=\"1\" class=\"dataframe\">\n",
       "  <thead>\n",
       "    <tr style=\"text-align: right;\">\n",
       "      <th></th>\n",
       "      <th>0</th>\n",
       "      <th>1</th>\n",
       "      <th>2</th>\n",
       "      <th>3</th>\n",
       "    </tr>\n",
       "  </thead>\n",
       "  <tbody>\n",
       "    <tr>\n",
       "      <th>0</th>\n",
       "      <td>0.775377</td>\n",
       "      <td>0.829481</td>\n",
       "      <td>0.346950</td>\n",
       "      <td>0.982427</td>\n",
       "    </tr>\n",
       "    <tr>\n",
       "      <th>1</th>\n",
       "      <td>0.055513</td>\n",
       "      <td>0.610697</td>\n",
       "      <td>0.098696</td>\n",
       "      <td>0.004694</td>\n",
       "    </tr>\n",
       "  </tbody>\n",
       "</table>\n",
       "</div>"
      ],
      "text/plain": [
       "          0         1         2         3\n",
       "0  0.775377  0.829481  0.346950  0.982427\n",
       "1  0.055513  0.610697  0.098696  0.004694"
      ]
     },
     "execution_count": 9,
     "metadata": {},
     "output_type": "execute_result"
    }
   ],
   "source": [
    "df_obj = pd.DataFrame(arr_obj)\n",
    "df_obj\n",
    "df_obj.head(2)"
   ]
  },
  {
   "cell_type": "markdown",
   "metadata": {},
   "source": [
    "# 通过dict构建DataFramed对象"
   ]
  },
  {
   "cell_type": "code",
   "execution_count": 10,
   "metadata": {
    "collapsed": true
   },
   "outputs": [],
   "source": [
    "dic = {\n",
    "    \"A\" : 1,\n",
    "    \"B\" : pd.Timestamp(\"20170426\"),\n",
    "    \"C\" : pd.Series(range(10, 14), dtype = \"float64\"),\n",
    "    \"D\" : [\"Python\", \"Java\", \"C++\", \"C\"],\n",
    "    \"E\" : np.array([3] * 4, dtype=\"int32\"),\n",
    "    \"F\" : \"ITCast\"\n",
    "}"
   ]
  },
  {
   "cell_type": "code",
   "execution_count": 12,
   "metadata": {
    "collapsed": false
   },
   "outputs": [
    {
     "data": {
      "text/html": [
       "<div>\n",
       "<table border=\"1\" class=\"dataframe\">\n",
       "  <thead>\n",
       "    <tr style=\"text-align: right;\">\n",
       "      <th></th>\n",
       "      <th>A</th>\n",
       "      <th>B</th>\n",
       "      <th>C</th>\n",
       "      <th>D</th>\n",
       "      <th>E</th>\n",
       "      <th>F</th>\n",
       "    </tr>\n",
       "  </thead>\n",
       "  <tbody>\n",
       "    <tr>\n",
       "      <th>0</th>\n",
       "      <td>1</td>\n",
       "      <td>2017-04-26</td>\n",
       "      <td>10.0</td>\n",
       "      <td>Python</td>\n",
       "      <td>3</td>\n",
       "      <td>ITCast</td>\n",
       "    </tr>\n",
       "    <tr>\n",
       "      <th>1</th>\n",
       "      <td>1</td>\n",
       "      <td>2017-04-26</td>\n",
       "      <td>11.0</td>\n",
       "      <td>Java</td>\n",
       "      <td>3</td>\n",
       "      <td>ITCast</td>\n",
       "    </tr>\n",
       "    <tr>\n",
       "      <th>2</th>\n",
       "      <td>1</td>\n",
       "      <td>2017-04-26</td>\n",
       "      <td>12.0</td>\n",
       "      <td>C++</td>\n",
       "      <td>3</td>\n",
       "      <td>ITCast</td>\n",
       "    </tr>\n",
       "    <tr>\n",
       "      <th>3</th>\n",
       "      <td>1</td>\n",
       "      <td>2017-04-26</td>\n",
       "      <td>13.0</td>\n",
       "      <td>C</td>\n",
       "      <td>3</td>\n",
       "      <td>ITCast</td>\n",
       "    </tr>\n",
       "  </tbody>\n",
       "</table>\n",
       "</div>"
      ],
      "text/plain": [
       "   A          B     C       D  E       F\n",
       "0  1 2017-04-26  10.0  Python  3  ITCast\n",
       "1  1 2017-04-26  11.0    Java  3  ITCast\n",
       "2  1 2017-04-26  12.0     C++  3  ITCast\n",
       "3  1 2017-04-26  13.0       C  3  ITCast"
      ]
     },
     "execution_count": 12,
     "metadata": {},
     "output_type": "execute_result"
    }
   ],
   "source": [
    "df_obj2 = pd.DataFrame(dic)\n",
    "df_obj2"
   ]
  },
  {
   "cell_type": "code",
   "execution_count": 14,
   "metadata": {
    "collapsed": false
   },
   "outputs": [
    {
     "name": "stdout",
     "output_type": "stream",
     "text": [
      "C++\n",
      "C++\n"
     ]
    }
   ],
   "source": [
    "# 在DataFrame对象里找到指定的元素，先找列，再找行\n",
    "print(df_obj2['D'][2])\n",
    "print(df_obj2.D[2])"
   ]
  },
  {
   "cell_type": "code",
   "execution_count": 15,
   "metadata": {
    "collapsed": false
   },
   "outputs": [
    {
     "data": {
      "text/html": [
       "<div>\n",
       "<table border=\"1\" class=\"dataframe\">\n",
       "  <thead>\n",
       "    <tr style=\"text-align: right;\">\n",
       "      <th></th>\n",
       "      <th>A</th>\n",
       "      <th>B</th>\n",
       "      <th>C</th>\n",
       "      <th>D</th>\n",
       "      <th>E</th>\n",
       "      <th>F</th>\n",
       "      <th>G</th>\n",
       "    </tr>\n",
       "  </thead>\n",
       "  <tbody>\n",
       "    <tr>\n",
       "      <th>0</th>\n",
       "      <td>1</td>\n",
       "      <td>2017-04-26</td>\n",
       "      <td>10.0</td>\n",
       "      <td>Python</td>\n",
       "      <td>3</td>\n",
       "      <td>ITCast</td>\n",
       "      <td>20.0</td>\n",
       "    </tr>\n",
       "    <tr>\n",
       "      <th>1</th>\n",
       "      <td>1</td>\n",
       "      <td>2017-04-26</td>\n",
       "      <td>11.0</td>\n",
       "      <td>Java</td>\n",
       "      <td>3</td>\n",
       "      <td>ITCast</td>\n",
       "      <td>21.0</td>\n",
       "    </tr>\n",
       "    <tr>\n",
       "      <th>2</th>\n",
       "      <td>1</td>\n",
       "      <td>2017-04-26</td>\n",
       "      <td>12.0</td>\n",
       "      <td>C++</td>\n",
       "      <td>3</td>\n",
       "      <td>ITCast</td>\n",
       "      <td>22.0</td>\n",
       "    </tr>\n",
       "    <tr>\n",
       "      <th>3</th>\n",
       "      <td>1</td>\n",
       "      <td>2017-04-26</td>\n",
       "      <td>13.0</td>\n",
       "      <td>C</td>\n",
       "      <td>3</td>\n",
       "      <td>ITCast</td>\n",
       "      <td>23.0</td>\n",
       "    </tr>\n",
       "  </tbody>\n",
       "</table>\n",
       "</div>"
      ],
      "text/plain": [
       "   A          B     C       D  E       F     G\n",
       "0  1 2017-04-26  10.0  Python  3  ITCast  20.0\n",
       "1  1 2017-04-26  11.0    Java  3  ITCast  21.0\n",
       "2  1 2017-04-26  12.0     C++  3  ITCast  22.0\n",
       "3  1 2017-04-26  13.0       C  3  ITCast  23.0"
      ]
     },
     "execution_count": 15,
     "metadata": {},
     "output_type": "execute_result"
    }
   ],
   "source": [
    "# 新增加一列的数据，数据可以是和DataFrame对象的其他列运算后的数据\n",
    "df_obj2['G'] = df_obj2['C']+10\n",
    "df_obj2"
   ]
  },
  {
   "cell_type": "code",
   "execution_count": 16,
   "metadata": {
    "collapsed": false
   },
   "outputs": [
    {
     "data": {
      "text/html": [
       "<div>\n",
       "<table border=\"1\" class=\"dataframe\">\n",
       "  <thead>\n",
       "    <tr style=\"text-align: right;\">\n",
       "      <th></th>\n",
       "      <th>A</th>\n",
       "      <th>B</th>\n",
       "      <th>C</th>\n",
       "      <th>D</th>\n",
       "      <th>F</th>\n",
       "      <th>G</th>\n",
       "    </tr>\n",
       "  </thead>\n",
       "  <tbody>\n",
       "    <tr>\n",
       "      <th>0</th>\n",
       "      <td>1</td>\n",
       "      <td>2017-04-26</td>\n",
       "      <td>10.0</td>\n",
       "      <td>Python</td>\n",
       "      <td>ITCast</td>\n",
       "      <td>20.0</td>\n",
       "    </tr>\n",
       "    <tr>\n",
       "      <th>1</th>\n",
       "      <td>1</td>\n",
       "      <td>2017-04-26</td>\n",
       "      <td>11.0</td>\n",
       "      <td>Java</td>\n",
       "      <td>ITCast</td>\n",
       "      <td>21.0</td>\n",
       "    </tr>\n",
       "    <tr>\n",
       "      <th>2</th>\n",
       "      <td>1</td>\n",
       "      <td>2017-04-26</td>\n",
       "      <td>12.0</td>\n",
       "      <td>C++</td>\n",
       "      <td>ITCast</td>\n",
       "      <td>22.0</td>\n",
       "    </tr>\n",
       "    <tr>\n",
       "      <th>3</th>\n",
       "      <td>1</td>\n",
       "      <td>2017-04-26</td>\n",
       "      <td>13.0</td>\n",
       "      <td>C</td>\n",
       "      <td>ITCast</td>\n",
       "      <td>23.0</td>\n",
       "    </tr>\n",
       "  </tbody>\n",
       "</table>\n",
       "</div>"
      ],
      "text/plain": [
       "   A          B     C       D       F     G\n",
       "0  1 2017-04-26  10.0  Python  ITCast  20.0\n",
       "1  1 2017-04-26  11.0    Java  ITCast  21.0\n",
       "2  1 2017-04-26  12.0     C++  ITCast  22.0\n",
       "3  1 2017-04-26  13.0       C  ITCast  23.0"
      ]
     },
     "execution_count": 16,
     "metadata": {},
     "output_type": "execute_result"
    }
   ],
   "source": [
    "# 通过del方法，指定删除一列的数据\n",
    "del(df_obj2['E'])\n",
    "df_obj2"
   ]
  },
  {
   "cell_type": "code",
   "execution_count": null,
   "metadata": {
    "collapsed": true
   },
   "outputs": [],
   "source": []
  }
 ],
 "metadata": {
  "kernelspec": {
   "display_name": "Python 3",
   "language": "python",
   "name": "python3"
  },
  "language_info": {
   "codemirror_mode": {
    "name": "ipython",
    "version": 3
   },
   "file_extension": ".py",
   "mimetype": "text/x-python",
   "name": "python",
   "nbconvert_exporter": "python",
   "pygments_lexer": "ipython3",
   "version": "3.6.0"
  }
 },
 "nbformat": 4,
 "nbformat_minor": 2
}
