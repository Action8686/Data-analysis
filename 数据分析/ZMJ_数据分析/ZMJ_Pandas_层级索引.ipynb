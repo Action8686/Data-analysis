{
 "cells": [
  {
   "cell_type": "code",
   "execution_count": 1,
   "metadata": {
    "collapsed": true
   },
   "outputs": [],
   "source": [
    "import pandas as pd\n",
    "import numpy as np"
   ]
  },
  {
   "cell_type": "code",
   "execution_count": 2,
   "metadata": {
    "collapsed": false
   },
   "outputs": [
    {
     "name": "stdout",
     "output_type": "stream",
     "text": [
      "a  -10   10   -0.382160\n",
      "c  -1    21   -0.837038\n",
      "b   12   25    0.221138\n",
      "a   0    20    0.051641\n",
      "b  -1    14   -2.077146\n",
      "c   21   20   -1.646651\n",
      "b   10   2    -0.330422\n",
      "c   11   16    0.391766\n",
      "a   21   11   -1.013263\n",
      "c  -11   9     0.980346\n",
      "a   18  -10   -1.936177\n",
      "b   26   0    -1.610074\n",
      "dtype: float64\n",
      "<class 'pandas.indexes.multi.MultiIndex'>\n"
     ]
    }
   ],
   "source": [
    "# 示例：两层索引， 外层为字母，内层为数字\n",
    "ser_obj = pd.Series(np.random.randn(12), index = [\n",
    "    ['a', 'c', 'b', 'a', 'b', 'c', 'b', 'c', 'a', 'c', 'a', 'b'],\n",
    "    [-10, -1, 12, 0, -1, 21, 10, 11, 21, -11, 18, 26],\n",
    "    [10, 21, 25, 20, 14, 20, 2, 16, 11, 9, -10, 0]\n",
    "])\n",
    "print(ser_obj)\n",
    "print(type(ser_obj.index))"
   ]
  },
  {
   "cell_type": "code",
   "execution_count": 3,
   "metadata": {
    "collapsed": false
   },
   "outputs": [
    {
     "name": "stdout",
     "output_type": "stream",
     "text": [
      " 12  25    0.221138\n",
      "-1   14   -2.077146\n",
      " 10  2    -0.330422\n",
      " 26  0    -1.610074\n",
      "dtype: float64\n",
      "c  20   -1.646651\n",
      "a  11   -1.013263\n",
      "dtype: float64\n",
      "11    0.391766\n",
      "dtype: float64\n",
      "-0.330421844322\n"
     ]
    }
   ],
   "source": [
    "# 选定外层\n",
    "print(ser_obj['b'])\n",
    "# 选定内层\n",
    "print(ser_obj[:, 21])\n",
    "# 选定更内层\n",
    "print(ser_obj['c',:,16])\n",
    "# 选定具体的值\n",
    "print(ser_obj['b', 10, 2])"
   ]
  },
  {
   "cell_type": "code",
   "execution_count": 4,
   "metadata": {
    "collapsed": false
   },
   "outputs": [
    {
     "name": "stdout",
     "output_type": "stream",
     "text": [
      " 10  -10  a   -0.382160\n",
      " 21  -1   c   -0.837038\n",
      " 25   12  b    0.221138\n",
      " 20   0   a    0.051641\n",
      " 14  -1   b   -2.077146\n",
      " 20   21  c   -1.646651\n",
      " 2    10  b   -0.330422\n",
      " 16   11  c    0.391766\n",
      " 11   21  a   -1.013263\n",
      " 9   -11  c    0.980346\n",
      "-10   18  a   -1.936177\n",
      " 0    26  b   -1.610074\n",
      "dtype: float64\n"
     ]
    }
   ],
   "source": [
    "# 4.交换分层：swaplevel(),和最内层做交换\n",
    "# 默认处理的是最外层\n",
    "# 参数为0， 处理最外层\n",
    "# 参数为1， 处理内层\n",
    "# 参数为2， 处理更内层\n",
    "print(ser_obj.swaplevel(0))"
   ]
  },
  {
   "cell_type": "code",
   "execution_count": 6,
   "metadata": {
    "collapsed": false
   },
   "outputs": [
    {
     "name": "stdout",
     "output_type": "stream",
     "text": [
      "b   12   25    0.221138\n",
      "c  -1    21   -0.837038\n",
      "    21   20   -1.646651\n",
      "a   0    20    0.051641\n",
      "c   11   16    0.391766\n",
      "b  -1    14   -2.077146\n",
      "a   21   11   -1.013263\n",
      "   -10   10   -0.382160\n",
      "c  -11   9     0.980346\n",
      "b   10   2    -0.330422\n",
      "    26   0    -1.610074\n",
      "a   18  -10   -1.936177\n",
      "dtype: float64\n"
     ]
    }
   ],
   "source": [
    "# 5.层排序 sotrlevel()默认是升序， ascending=False 指定为降序\n",
    "# 默认处理的是最外层\n",
    "# 参数为0：处理最外层\n",
    "# 参数为1；处理内层\n",
    "# 参数为2： 处理更内层\n",
    "print(ser_obj.sortlevel(2, ascending=False))"
   ]
  },
  {
   "cell_type": "code",
   "execution_count": 8,
   "metadata": {
    "collapsed": false
   },
   "outputs": [
    {
     "data": {
      "text/html": [
       "<div>\n",
       "<table border=\"1\" class=\"dataframe\">\n",
       "  <thead>\n",
       "    <tr style=\"text-align: right;\">\n",
       "      <th></th>\n",
       "      <th></th>\n",
       "      <th>a</th>\n",
       "      <th>b</th>\n",
       "      <th>c</th>\n",
       "    </tr>\n",
       "  </thead>\n",
       "  <tbody>\n",
       "    <tr>\n",
       "      <th>-11</th>\n",
       "      <th>9</th>\n",
       "      <td>NaN</td>\n",
       "      <td>NaN</td>\n",
       "      <td>0.980346</td>\n",
       "    </tr>\n",
       "    <tr>\n",
       "      <th>-10</th>\n",
       "      <th>10</th>\n",
       "      <td>-0.382160</td>\n",
       "      <td>NaN</td>\n",
       "      <td>NaN</td>\n",
       "    </tr>\n",
       "    <tr>\n",
       "      <th rowspan=\"2\" valign=\"top\">-1</th>\n",
       "      <th>14</th>\n",
       "      <td>NaN</td>\n",
       "      <td>-2.077146</td>\n",
       "      <td>NaN</td>\n",
       "    </tr>\n",
       "    <tr>\n",
       "      <th>21</th>\n",
       "      <td>NaN</td>\n",
       "      <td>NaN</td>\n",
       "      <td>-0.837038</td>\n",
       "    </tr>\n",
       "    <tr>\n",
       "      <th>0</th>\n",
       "      <th>20</th>\n",
       "      <td>0.051641</td>\n",
       "      <td>NaN</td>\n",
       "      <td>NaN</td>\n",
       "    </tr>\n",
       "    <tr>\n",
       "      <th>10</th>\n",
       "      <th>2</th>\n",
       "      <td>NaN</td>\n",
       "      <td>-0.330422</td>\n",
       "      <td>NaN</td>\n",
       "    </tr>\n",
       "    <tr>\n",
       "      <th>11</th>\n",
       "      <th>16</th>\n",
       "      <td>NaN</td>\n",
       "      <td>NaN</td>\n",
       "      <td>0.391766</td>\n",
       "    </tr>\n",
       "    <tr>\n",
       "      <th>12</th>\n",
       "      <th>25</th>\n",
       "      <td>NaN</td>\n",
       "      <td>0.221138</td>\n",
       "      <td>NaN</td>\n",
       "    </tr>\n",
       "    <tr>\n",
       "      <th>18</th>\n",
       "      <th>-10</th>\n",
       "      <td>-1.936177</td>\n",
       "      <td>NaN</td>\n",
       "      <td>NaN</td>\n",
       "    </tr>\n",
       "    <tr>\n",
       "      <th rowspan=\"2\" valign=\"top\">21</th>\n",
       "      <th>11</th>\n",
       "      <td>-1.013263</td>\n",
       "      <td>NaN</td>\n",
       "      <td>NaN</td>\n",
       "    </tr>\n",
       "    <tr>\n",
       "      <th>20</th>\n",
       "      <td>NaN</td>\n",
       "      <td>NaN</td>\n",
       "      <td>-1.646651</td>\n",
       "    </tr>\n",
       "    <tr>\n",
       "      <th>26</th>\n",
       "      <th>0</th>\n",
       "      <td>NaN</td>\n",
       "      <td>-1.610074</td>\n",
       "      <td>NaN</td>\n",
       "    </tr>\n",
       "  </tbody>\n",
       "</table>\n",
       "</div>"
      ],
      "text/plain": [
       "                a         b         c\n",
       "-11  9        NaN       NaN  0.980346\n",
       "-10  10 -0.382160       NaN       NaN\n",
       "-1   14       NaN -2.077146       NaN\n",
       "     21       NaN       NaN -0.837038\n",
       " 0   20  0.051641       NaN       NaN\n",
       " 10  2        NaN -0.330422       NaN\n",
       " 11  16       NaN       NaN  0.391766\n",
       " 12  25       NaN  0.221138       NaN\n",
       " 18 -10 -1.936177       NaN       NaN\n",
       " 21  11 -1.013263       NaN       NaN\n",
       "     20       NaN       NaN -1.646651\n",
       " 26  0        NaN -1.610074       NaN"
      ]
     },
     "execution_count": 8,
     "metadata": {},
     "output_type": "execute_result"
    }
   ],
   "source": [
    "# 6.unstack 将Series--》DataFrame\n",
    "# 可以将Series对象重构为DataFrame对象，岑姝可以指定处理的层索引\n",
    "df_obj = ser_obj.unstack(0)\n",
    "df_obj"
   ]
  },
  {
   "cell_type": "code",
   "execution_count": 9,
   "metadata": {
    "collapsed": false
   },
   "outputs": [
    {
     "name": "stdout",
     "output_type": "stream",
     "text": [
      "-11   9   c    0.980346\n",
      "-10   10  a   -0.382160\n",
      "-1    14  b   -2.077146\n",
      "      21  c   -0.837038\n",
      " 0    20  a    0.051641\n",
      " 10   2   b   -0.330422\n",
      " 11   16  c    0.391766\n",
      " 12   25  b    0.221138\n",
      " 18  -10  a   -1.936177\n",
      " 21   11  a   -1.013263\n",
      "      20  c   -1.646651\n",
      " 26   0   b   -1.610074\n",
      "dtype: float64\n"
     ]
    }
   ],
   "source": [
    "# 7.stack()将DataFrame——Series\n",
    "# 可以将DataFrame对象重构为Series对象，岑姝可以指定处理的层索引\n",
    "print(df_obj.stack())"
   ]
  },
  {
   "cell_type": "code",
   "execution_count": null,
   "metadata": {
    "collapsed": true
   },
   "outputs": [],
   "source": []
  }
 ],
 "metadata": {
  "kernelspec": {
   "display_name": "Python 3",
   "language": "python",
   "name": "python3"
  },
  "language_info": {
   "codemirror_mode": {
    "name": "ipython",
    "version": 3
   },
   "file_extension": ".py",
   "mimetype": "text/x-python",
   "name": "python",
   "nbconvert_exporter": "python",
   "pygments_lexer": "ipython3",
   "version": "3.6.0"
  }
 },
 "nbformat": 4,
 "nbformat_minor": 2
}
