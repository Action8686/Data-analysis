{
 "cells": [
  {
   "cell_type": "code",
   "execution_count": 2,
   "metadata": {
    "collapsed": false
   },
   "outputs": [],
   "source": [
    "import pandas as pd\n",
    "import numpy as np\n"
   ]
  },
  {
   "cell_type": "markdown",
   "metadata": {},
   "source": [
    "# 分组"
   ]
  },
  {
   "cell_type": "code",
   "execution_count": 3,
   "metadata": {
    "collapsed": false
   },
   "outputs": [
    {
     "data": {
      "text/html": [
       "<div>\n",
       "<table border=\"1\" class=\"dataframe\">\n",
       "  <thead>\n",
       "    <tr style=\"text-align: right;\">\n",
       "      <th></th>\n",
       "      <th>data1</th>\n",
       "      <th>data2</th>\n",
       "      <th>key1</th>\n",
       "      <th>key2</th>\n",
       "    </tr>\n",
       "  </thead>\n",
       "  <tbody>\n",
       "    <tr>\n",
       "      <th>0</th>\n",
       "      <td>-0.766085</td>\n",
       "      <td>0.929862</td>\n",
       "      <td>a</td>\n",
       "      <td>one</td>\n",
       "    </tr>\n",
       "    <tr>\n",
       "      <th>1</th>\n",
       "      <td>-0.044919</td>\n",
       "      <td>2.451428</td>\n",
       "      <td>b</td>\n",
       "      <td>one</td>\n",
       "    </tr>\n",
       "    <tr>\n",
       "      <th>2</th>\n",
       "      <td>1.512204</td>\n",
       "      <td>0.398841</td>\n",
       "      <td>a</td>\n",
       "      <td>two</td>\n",
       "    </tr>\n",
       "    <tr>\n",
       "      <th>3</th>\n",
       "      <td>-0.966868</td>\n",
       "      <td>-2.248148</td>\n",
       "      <td>b</td>\n",
       "      <td>three</td>\n",
       "    </tr>\n",
       "    <tr>\n",
       "      <th>4</th>\n",
       "      <td>0.033175</td>\n",
       "      <td>-1.047117</td>\n",
       "      <td>a</td>\n",
       "      <td>two</td>\n",
       "    </tr>\n",
       "    <tr>\n",
       "      <th>5</th>\n",
       "      <td>1.408734</td>\n",
       "      <td>-0.656034</td>\n",
       "      <td>b</td>\n",
       "      <td>two</td>\n",
       "    </tr>\n",
       "    <tr>\n",
       "      <th>6</th>\n",
       "      <td>-0.391598</td>\n",
       "      <td>0.138052</td>\n",
       "      <td>a</td>\n",
       "      <td>one</td>\n",
       "    </tr>\n",
       "    <tr>\n",
       "      <th>7</th>\n",
       "      <td>0.653694</td>\n",
       "      <td>-0.747137</td>\n",
       "      <td>a</td>\n",
       "      <td>three</td>\n",
       "    </tr>\n",
       "  </tbody>\n",
       "</table>\n",
       "</div>"
      ],
      "text/plain": [
       "      data1     data2 key1   key2\n",
       "0 -0.766085  0.929862    a    one\n",
       "1 -0.044919  2.451428    b    one\n",
       "2  1.512204  0.398841    a    two\n",
       "3 -0.966868 -2.248148    b  three\n",
       "4  0.033175 -1.047117    a    two\n",
       "5  1.408734 -0.656034    b    two\n",
       "6 -0.391598  0.138052    a    one\n",
       "7  0.653694 -0.747137    a  three"
      ]
     },
     "execution_count": 3,
     "metadata": {},
     "output_type": "execute_result"
    }
   ],
   "source": [
    "dict_obj = {'key1' : ['a', 'b', 'a', 'b', \n",
    "                      'a', 'b', 'a', 'a'],\n",
    "            'key2' : ['one', 'one', 'two', 'three',\n",
    "                      'two', 'two', 'one', 'three'],\n",
    "            'data1': np.random.randn(8),\n",
    "            'data2': np.random.randn(8)}\n",
    "df_obj = pd.DataFrame(dict_obj)\n",
    "df_obj"
   ]
  },
  {
   "cell_type": "markdown",
   "metadata": {},
   "source": [
    "## groupby分组"
   ]
  },
  {
   "cell_type": "code",
   "execution_count": 4,
   "metadata": {
    "collapsed": false
   },
   "outputs": [
    {
     "data": {
      "text/plain": [
       "<pandas.core.groupby.DataFrameGroupBy object at 0x0000000008F17898>"
      ]
     },
     "execution_count": 4,
     "metadata": {},
     "output_type": "execute_result"
    }
   ],
   "source": [
    "# 1.分组操作，创建groupby对象\n",
    "\n",
    "# 如果对整个数据集进行分组，groupby参数直接指定列名即可\n",
    "grouped = df_obj.groupby('key2')\n",
    "grouped\n"
   ]
  },
  {
   "cell_type": "code",
   "execution_count": 5,
   "metadata": {
    "collapsed": false
   },
   "outputs": [
    {
     "data": {
      "text/html": [
       "<div>\n",
       "<table border=\"1\" class=\"dataframe\">\n",
       "  <thead>\n",
       "    <tr style=\"text-align: right;\">\n",
       "      <th></th>\n",
       "      <th>data1</th>\n",
       "      <th>data2</th>\n",
       "    </tr>\n",
       "    <tr>\n",
       "      <th>key2</th>\n",
       "      <th></th>\n",
       "      <th></th>\n",
       "    </tr>\n",
       "  </thead>\n",
       "  <tbody>\n",
       "    <tr>\n",
       "      <th>one</th>\n",
       "      <td>-1.202602</td>\n",
       "      <td>3.519343</td>\n",
       "    </tr>\n",
       "    <tr>\n",
       "      <th>three</th>\n",
       "      <td>-0.313174</td>\n",
       "      <td>-2.995285</td>\n",
       "    </tr>\n",
       "    <tr>\n",
       "      <th>two</th>\n",
       "      <td>2.954113</td>\n",
       "      <td>-1.304310</td>\n",
       "    </tr>\n",
       "  </tbody>\n",
       "</table>\n",
       "</div>"
      ],
      "text/plain": [
       "          data1     data2\n",
       "key2                     \n",
       "one   -1.202602  3.519343\n",
       "three -0.313174 -2.995285\n",
       "two    2.954113 -1.304310"
      ]
     },
     "execution_count": 5,
     "metadata": {},
     "output_type": "execute_result"
    }
   ],
   "source": [
    "# 2.分组运算，对groupby对象进行运算\n",
    "# 在分组的基础上，对分组对象调用方法进行运算\n",
    "# 注意： 分组运算只会作用于数据部分，非数据部分不参与运算\n",
    "grouped.sum()"
   ]
  },
  {
   "cell_type": "code",
   "execution_count": 6,
   "metadata": {
    "collapsed": false
   },
   "outputs": [
    {
     "data": {
      "text/plain": [
       "key1\n",
       "a   -0.065500\n",
       "b   -0.150918\n",
       "Name: data2, dtype: float64"
      ]
     },
     "execution_count": 6,
     "metadata": {},
     "output_type": "execute_result"
    }
   ],
   "source": [
    "# 如果对单独某个数据部分的列进行分组运算，那么groupby的参数必须制定数据集的某一列\n",
    "group2 = df_obj['data2'].groupby(df_obj['key1'])\n",
    "group2.mean()"
   ]
  },
  {
   "cell_type": "code",
   "execution_count": 7,
   "metadata": {
    "collapsed": true
   },
   "outputs": [],
   "source": [
    "# 自定义分组运算\n",
    "# 如果现有的分组不满足业务需求，可以自己创建一个分组规则，实现数据分组运算\n"
   ]
  },
  {
   "cell_type": "code",
   "execution_count": 8,
   "metadata": {
    "collapsed": false
   },
   "outputs": [
    {
     "data": {
      "text/html": [
       "<div>\n",
       "<table border=\"1\" class=\"dataframe\">\n",
       "  <thead>\n",
       "    <tr style=\"text-align: right;\">\n",
       "      <th></th>\n",
       "      <th>data1</th>\n",
       "      <th>data2</th>\n",
       "    </tr>\n",
       "  </thead>\n",
       "  <tbody>\n",
       "    <tr>\n",
       "      <th>aa</th>\n",
       "      <td>-0.732910</td>\n",
       "      <td>-0.117254</td>\n",
       "    </tr>\n",
       "    <tr>\n",
       "      <th>bb</th>\n",
       "      <td>1.363815</td>\n",
       "      <td>1.795394</td>\n",
       "    </tr>\n",
       "    <tr>\n",
       "      <th>cc</th>\n",
       "      <td>1.120606</td>\n",
       "      <td>0.536893</td>\n",
       "    </tr>\n",
       "    <tr>\n",
       "      <th>dd</th>\n",
       "      <td>-0.313174</td>\n",
       "      <td>-2.995285</td>\n",
       "    </tr>\n",
       "  </tbody>\n",
       "</table>\n",
       "</div>"
      ],
      "text/plain": [
       "       data1     data2\n",
       "aa -0.732910 -0.117254\n",
       "bb  1.363815  1.795394\n",
       "cc  1.120606  0.536893\n",
       "dd -0.313174 -2.995285"
      ]
     },
     "execution_count": 8,
     "metadata": {},
     "output_type": "execute_result"
    }
   ],
   "source": [
    "self_key = [\"aa\", \"bb\", \"cc\", \"dd\", \"aa\", \"bb\", \"cc\", \"dd\"]\n",
    "grouped3 = df_obj.groupby(self_key)\n",
    "grouped3.sum()"
   ]
  },
  {
   "cell_type": "code",
   "execution_count": 12,
   "metadata": {
    "collapsed": false
   },
   "outputs": [
    {
     "data": {
      "text/html": [
       "<div>\n",
       "<table border=\"1\" class=\"dataframe\">\n",
       "  <thead>\n",
       "    <tr style=\"text-align: right;\">\n",
       "      <th></th>\n",
       "      <th></th>\n",
       "      <th>data1</th>\n",
       "      <th>data2</th>\n",
       "    </tr>\n",
       "    <tr>\n",
       "      <th>key2</th>\n",
       "      <th>key1</th>\n",
       "      <th></th>\n",
       "      <th></th>\n",
       "    </tr>\n",
       "  </thead>\n",
       "  <tbody>\n",
       "    <tr>\n",
       "      <th rowspan=\"2\" valign=\"top\">one</th>\n",
       "      <th>a</th>\n",
       "      <td>-1.157683</td>\n",
       "      <td>1.067914</td>\n",
       "    </tr>\n",
       "    <tr>\n",
       "      <th>b</th>\n",
       "      <td>-0.044919</td>\n",
       "      <td>2.451428</td>\n",
       "    </tr>\n",
       "    <tr>\n",
       "      <th rowspan=\"2\" valign=\"top\">three</th>\n",
       "      <th>a</th>\n",
       "      <td>0.653694</td>\n",
       "      <td>-0.747137</td>\n",
       "    </tr>\n",
       "    <tr>\n",
       "      <th>b</th>\n",
       "      <td>-0.966868</td>\n",
       "      <td>-2.248148</td>\n",
       "    </tr>\n",
       "    <tr>\n",
       "      <th rowspan=\"2\" valign=\"top\">two</th>\n",
       "      <th>a</th>\n",
       "      <td>1.545379</td>\n",
       "      <td>-0.648276</td>\n",
       "    </tr>\n",
       "    <tr>\n",
       "      <th>b</th>\n",
       "      <td>1.408734</td>\n",
       "      <td>-0.656034</td>\n",
       "    </tr>\n",
       "  </tbody>\n",
       "</table>\n",
       "</div>"
      ],
      "text/plain": [
       "               data1     data2\n",
       "key2  key1                    \n",
       "one   a    -1.157683  1.067914\n",
       "      b    -0.044919  2.451428\n",
       "three a     0.653694 -0.747137\n",
       "      b    -0.966868 -2.248148\n",
       "two   a     1.545379 -0.648276\n",
       "      b     1.408734 -0.656034"
      ]
     },
     "execution_count": 12,
     "metadata": {},
     "output_type": "execute_result"
    }
   ],
   "source": [
    "# 多层分组，索引顺序按列表里的参数顺序来决定\n",
    "#print(df_obj)\n",
    "group4 = df_obj.groupby([\"key2\", \"key1\"])\n",
    "#grouped4 = df_obj[\"data1\"].groupby([df_obj[\"key2\"], df_obj[\"key1\"]])\n",
    "group4.sum()"
   ]
  },
  {
   "cell_type": "markdown",
   "metadata": {},
   "source": [
    "## groupby 支持迭代操作\n"
   ]
  },
  {
   "cell_type": "code",
   "execution_count": 13,
   "metadata": {
    "collapsed": false
   },
   "outputs": [
    {
     "name": "stdout",
     "output_type": "stream",
     "text": [
      "('one', 'a')\n",
      "      data1     data2 key1 key2\n",
      "0 -0.766085  0.929862    a  one\n",
      "6 -0.391598  0.138052    a  one\n",
      "('one', 'b')\n",
      "      data1     data2 key1 key2\n",
      "1 -0.044919  2.451428    b  one\n",
      "('three', 'a')\n",
      "      data1     data2 key1   key2\n",
      "7  0.653694 -0.747137    a  three\n",
      "('three', 'b')\n",
      "      data1     data2 key1   key2\n",
      "3 -0.966868 -2.248148    b  three\n",
      "('two', 'a')\n",
      "      data1     data2 key1 key2\n",
      "2  1.512204  0.398841    a  two\n",
      "4  0.033175 -1.047117    a  two\n",
      "('two', 'b')\n",
      "      data1     data2 key1 key2\n",
      "5  1.408734 -0.656034    b  two\n"
     ]
    }
   ],
   "source": [
    "group4 = df_obj.groupby(['key2', 'key1'])\n",
    "for name,data in group4:\n",
    "    print(name)\n",
    "    print(data)"
   ]
  },
  {
   "cell_type": "code",
   "execution_count": 14,
   "metadata": {
    "collapsed": true
   },
   "outputs": [],
   "source": [
    "# GroupBy对象可以直接转换为字典和列表"
   ]
  },
  {
   "cell_type": "code",
   "execution_count": 18,
   "metadata": {
    "collapsed": false
   },
   "outputs": [
    {
     "name": "stdout",
     "output_type": "stream",
     "text": [
      "[(('one', 'a'),       data1     data2 key1 key2\n",
      "0 -0.766085  0.929862    a  one\n",
      "6 -0.391598  0.138052    a  one), (('one', 'b'),       data1     data2 key1 key2\n",
      "1 -0.044919  2.451428    b  one), (('three', 'a'),       data1     data2 key1   key2\n",
      "7  0.653694 -0.747137    a  three), (('three', 'b'),       data1     data2 key1   key2\n",
      "3 -0.966868 -2.248148    b  three), (('two', 'a'),       data1     data2 key1 key2\n",
      "2  1.512204  0.398841    a  two\n",
      "4  0.033175 -1.047117    a  two), (('two', 'b'),       data1     data2 key1 key2\n",
      "5  1.408734 -0.656034    b  two)]\n",
      "**************************************************\n",
      "{('one', 'a'):       data1     data2 key1 key2\n",
      "0 -0.766085  0.929862    a  one\n",
      "6 -0.391598  0.138052    a  one, ('one', 'b'):       data1     data2 key1 key2\n",
      "1 -0.044919  2.451428    b  one, ('three', 'a'):       data1     data2 key1   key2\n",
      "7  0.653694 -0.747137    a  three, ('three', 'b'):       data1     data2 key1   key2\n",
      "3 -0.966868 -2.248148    b  three, ('two', 'a'):       data1     data2 key1 key2\n",
      "2  1.512204  0.398841    a  two\n",
      "4  0.033175 -1.047117    a  two, ('two', 'b'):       data1     data2 key1 key2\n",
      "5  1.408734 -0.656034    b  two}\n"
     ]
    }
   ],
   "source": [
    "print(list(group4))\n",
    "print('*'*50)\n",
    "print(dict(list(group4)))"
   ]
  },
  {
   "cell_type": "markdown",
   "metadata": {},
   "source": [
    "### 按照数据类型分组"
   ]
  },
  {
   "cell_type": "code",
   "execution_count": 20,
   "metadata": {
    "collapsed": false
   },
   "outputs": [
    {
     "name": "stdout",
     "output_type": "stream",
     "text": [
      "float64    2\n",
      "object     2\n",
      "dtype: int64\n"
     ]
    }
   ],
   "source": [
    "# 可以通过数据乐行分组， 默认是按列，axis=1 表示轴方向为行,size() 返回每个分组的元素个数\n",
    "print(df_obj.groupby(df_obj.dtypes, axis=1).size())"
   ]
  },
  {
   "cell_type": "code",
   "execution_count": 22,
   "metadata": {
    "collapsed": false
   },
   "outputs": [
    {
     "name": "stdout",
     "output_type": "stream",
     "text": [
      "   a    b    c    d  e\n",
      "A  4  8.0  4.0  3.0  4\n",
      "B  7  NaN  NaN  NaN  8\n",
      "C  1  2.0  5.0  3.0  8\n",
      "D  7  7.0  7.0  2.0  7\n",
      "E  3  7.0  1.0  7.0  4\n"
     ]
    }
   ],
   "source": [
    "# 构建一个数据部分区间为1~10的5行5列，行索引是index列表，列索引是columns列表\n",
    "df_obj2 = pd.DataFrame(np.random.randint(1, 10, (5,5)),\n",
    "                       columns=['a', 'b', 'c', 'd', 'e'],\n",
    "                       index=['A', 'B', 'C', 'D', 'E'])\n",
    "# 给指定某个部分的数据重新赋值为np.NaN\n",
    "df_obj2.ix[1, 1:4] = np.NaN\n",
    "print(df_obj2)"
   ]
  },
  {
   "cell_type": "code",
   "execution_count": 25,
   "metadata": {
    "collapsed": false
   },
   "outputs": [
    {
     "name": "stdout",
     "output_type": "stream",
     "text": [
      "C#        1\n",
      "C++       1\n",
      "Java      1\n",
      "PHP       1\n",
      "Python    1\n",
      "dtype: int64\n"
     ]
    }
   ],
   "source": [
    "# 按字典分组\n",
    "dic = {\"a\" : \"C++\", \"b\": \"Python\", \"c\" : \"Java\", \"d\" : \"PHP\", \"e\" : \"C#\"}\n",
    "print(df_obj2.groupby(dic, axis = 1).size())"
   ]
  },
  {
   "cell_type": "code",
   "execution_count": 26,
   "metadata": {
    "collapsed": false
   },
   "outputs": [
    {
     "name": "stdout",
     "output_type": "stream",
     "text": [
      "      1\n",
      "A  23.0\n",
      "B  15.0\n",
      "C  19.0\n",
      "D  30.0\n",
      "E  22.0\n"
     ]
    }
   ],
   "source": [
    "# 通过自定义函数分组\n",
    "def group_key(idx):\n",
    "    \"\"\"\n",
    "        idx 为列索引或行索引\n",
    "    \"\"\"\n",
    "    #return idx\n",
    "    return len(idx)\n",
    "\n",
    "#print(df_obj2.groupby(group_key, axis=1).sum())\n",
    "print(df_obj2.groupby(len, axis = 1).sum())"
   ]
  },
  {
   "cell_type": "code",
   "execution_count": 27,
   "metadata": {
    "collapsed": false
   },
   "outputs": [
    {
     "name": "stdout",
     "output_type": "stream",
     "text": [
      "language Python Java Python Java Python\n",
      "index         A    A      B    C      B\n",
      "0             5    5      7    5      7\n",
      "1             6    7      2    3      3\n",
      "2             2    1      2    3      4\n",
      "3             3    1      3    4      6\n",
      "4             9    8      7    6      8\n"
     ]
    }
   ],
   "source": [
    "## 通过层级索引来分组\n",
    "columns = pd.MultiIndex.from_arrays([['Python', 'Java', 'Python', 'Java', 'Python'],\n",
    "                                     ['A', 'A', 'B', 'C', 'B']], names=['language', 'index'])\n",
    "df_obj4 = pd.DataFrame(np.random.randint(1, 10, (5, 5)), columns=columns)\n",
    "print(df_obj4)"
   ]
  },
  {
   "cell_type": "code",
   "execution_count": 28,
   "metadata": {
    "collapsed": false
   },
   "outputs": [
    {
     "name": "stdout",
     "output_type": "stream",
     "text": [
      "language  Java  Python\n",
      "0           10      19\n",
      "1           10      11\n",
      "2            4       8\n",
      "3            5      12\n",
      "4           14      24\n"
     ]
    }
   ],
   "source": [
    "print(df_obj4.groupby(level =\"language\", axis=1).sum())"
   ]
  },
  {
   "cell_type": "code",
   "execution_count": null,
   "metadata": {
    "collapsed": true
   },
   "outputs": [],
   "source": []
  }
 ],
 "metadata": {
  "kernelspec": {
   "display_name": "Python 3",
   "language": "python",
   "name": "python3"
  },
  "language_info": {
   "codemirror_mode": {
    "name": "ipython",
    "version": 3
   },
   "file_extension": ".py",
   "mimetype": "text/x-python",
   "name": "python",
   "nbconvert_exporter": "python",
   "pygments_lexer": "ipython3",
   "version": "3.6.0"
  }
 },
 "nbformat": 4,
 "nbformat_minor": 2
}
