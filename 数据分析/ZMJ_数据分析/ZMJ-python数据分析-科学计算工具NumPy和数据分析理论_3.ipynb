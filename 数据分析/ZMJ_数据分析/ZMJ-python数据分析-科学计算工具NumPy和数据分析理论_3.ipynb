{
 "cells": [
  {
   "cell_type": "code",
   "execution_count": 1,
   "metadata": {
    "collapsed": true
   },
   "outputs": [],
   "source": [
    "import numpy as np"
   ]
  },
  {
   "cell_type": "code",
   "execution_count": 2,
   "metadata": {
    "collapsed": false
   },
   "outputs": [
    {
     "data": {
      "text/plain": [
       "array([[ 0.9115296 , -0.44337692,  0.86541395, -0.31257523],\n",
       "       [-0.11475089, -0.97262504, -1.72447134, -1.52402506],\n",
       "       [ 1.35851444, -1.02441338,  0.4308067 ,  2.74452237]])"
      ]
     },
     "execution_count": 2,
     "metadata": {},
     "output_type": "execute_result"
    }
   ],
   "source": [
    "arr = np.random.randn(3,4)\n",
    "arr"
   ]
  },
  {
   "cell_type": "code",
   "execution_count": 3,
   "metadata": {
    "collapsed": false
   },
   "outputs": [
    {
     "name": "stdout",
     "output_type": "stream",
     "text": [
      "[[ 1. -0.  1. -0.]\n",
      " [-0. -0. -1. -1.]\n",
      " [ 2. -1.  1.  3.]]\n"
     ]
    }
   ],
   "source": [
    "# 取最近比自己大的整数\n",
    "print(np.ceil(arr))"
   ]
  },
  {
   "cell_type": "code",
   "execution_count": 4,
   "metadata": {
    "collapsed": false
   },
   "outputs": [
    {
     "name": "stdout",
     "output_type": "stream",
     "text": [
      "[[ 0. -1.  0. -1.]\n",
      " [-1. -1. -2. -2.]\n",
      " [ 1. -2.  0.  2.]]\n"
     ]
    }
   ],
   "source": [
    "# 取最近比自己小的整数\n",
    "print(np.floor(arr))\n"
   ]
  },
  {
   "cell_type": "code",
   "execution_count": 5,
   "metadata": {
    "collapsed": false
   },
   "outputs": [
    {
     "name": "stdout",
     "output_type": "stream",
     "text": [
      "[[ 1. -0.  1. -0.]\n",
      " [-0. -1. -2. -2.]\n",
      " [ 1. -1.  0.  3.]]\n"
     ]
    }
   ],
   "source": [
    "# 四舍五入\n",
    "print(np.rint(arr))"
   ]
  },
  {
   "cell_type": "code",
   "execution_count": 6,
   "metadata": {
    "collapsed": false
   },
   "outputs": [
    {
     "name": "stdout",
     "output_type": "stream",
     "text": [
      "[[ 0.9115296   0.44337692  0.86541395  0.31257523]\n",
      " [ 0.11475089  0.97262504  1.72447134  1.52402506]\n",
      " [ 1.35851444  1.02441338  0.4308067   2.74452237]]\n"
     ]
    }
   ],
   "source": [
    "# 取每个元素的绝对值\n",
    "print(np.abs(arr))"
   ]
  },
  {
   "cell_type": "code",
   "execution_count": 8,
   "metadata": {
    "collapsed": false
   },
   "outputs": [
    {
     "name": "stdout",
     "output_type": "stream",
     "text": [
      "[[False False False False]\n",
      " [False False False False]\n",
      " [False False False False]]\n",
      "True\n"
     ]
    }
   ],
   "source": [
    "# NAN =  not a number表示不是一个可以用来计算的数值\n",
    "# 可以创建一个nan数值\n",
    "num = np.nan\n",
    "print(np.isnan(arr))\n",
    "print(np.isnan(num))"
   ]
  },
  {
   "cell_type": "code",
   "execution_count": 10,
   "metadata": {
    "collapsed": false
   },
   "outputs": [
    {
     "name": "stdout",
     "output_type": "stream",
     "text": [
      "[[ 0.9115296  -0.44337692  0.86541395 -0.31257523]\n",
      " [-0.11475089 -0.97262504 -1.72447134 -1.52402506]\n",
      " [ 1.35851444 -1.02441338  0.4308067   2.74452237]]\n",
      "[[ 0.83088621  0.1965831   0.74894131  0.09770328]\n",
      " [ 0.01316777  0.94599948  2.97380141  2.32265237]\n",
      " [ 1.84556148  1.04942277  0.18559441  7.53240306]]\n",
      "-1.21685788939\n"
     ]
    }
   ],
   "source": [
    "# 数组和数组之间每个元素相乘，返回计算后的数组\n",
    "# 参数可以是数组，也可以是数字\n",
    "print(arr)\n",
    "print(np.multiply(arr,arr))\n",
    "print(np.multiply(arr[2,3], arr[0,1]))"
   ]
  },
  {
   "cell_type": "code",
   "execution_count": 11,
   "metadata": {
    "collapsed": false
   },
   "outputs": [
    {
     "name": "stdout",
     "output_type": "stream",
     "text": [
      "[[ 1.  1.  1.  1.]\n",
      " [ 1.  1.  1.  1.]\n",
      " [ 1.  1.  1.  1.]]\n",
      "3.17134057107\n"
     ]
    }
   ],
   "source": [
    "# 相除\n",
    "print(np.divide(arr, arr))\n",
    "print(np.divide(arr[2,3], arr[0,2]))\n"
   ]
  },
  {
   "cell_type": "code",
   "execution_count": 12,
   "metadata": {
    "collapsed": false
   },
   "outputs": [
    {
     "name": "stdout",
     "output_type": "stream",
     "text": [
      "[[ 0 -1  0 -1]\n",
      " [-1 -1 -1 -1]\n",
      " [ 0 -1  0  0]]\n"
     ]
    }
   ],
   "source": [
    "# 三目运算符，三元运算符\n",
    "# 包含三个参数，第一个参数是条件语句，第二个参数是条件为真返回值，第三个参数是条件为假的返回值\n",
    "print(np.where(arr<0,-1,0))"
   ]
  },
  {
   "cell_type": "markdown",
   "metadata": {},
   "source": [
    "# ndarray的统计函数"
   ]
  },
  {
   "cell_type": "code",
   "execution_count": 13,
   "metadata": {
    "collapsed": false
   },
   "outputs": [
    {
     "name": "stdout",
     "output_type": "stream",
     "text": [
      "[[9 8 5 8]\n",
      " [6 6 7 7]\n",
      " [7 9 7 8]]\n"
     ]
    }
   ],
   "source": [
    "arr = np.random.randint(0,10,(3,4))\n",
    "print(arr)"
   ]
  },
  {
   "cell_type": "code",
   "execution_count": 14,
   "metadata": {
    "collapsed": false
   },
   "outputs": [
    {
     "name": "stdout",
     "output_type": "stream",
     "text": [
      "7.25\n"
     ]
    }
   ],
   "source": [
    "# 求数字里所有元素的平均值\n",
    "print(np.mean(arr))"
   ]
  },
  {
   "cell_type": "code",
   "execution_count": 17,
   "metadata": {
    "collapsed": false
   },
   "outputs": [
    {
     "name": "stdout",
     "output_type": "stream",
     "text": [
      "87\n"
     ]
    }
   ],
   "source": [
    "# 求数组里所有元素的和\n",
    "print(np.sum(arr))"
   ]
  },
  {
   "cell_type": "code",
   "execution_count": 18,
   "metadata": {
    "collapsed": false
   },
   "outputs": [
    {
     "name": "stdout",
     "output_type": "stream",
     "text": [
      "9\n"
     ]
    }
   ],
   "source": [
    "# 求数组里的最大值\n",
    "print(np.max(arr))\n"
   ]
  },
  {
   "cell_type": "code",
   "execution_count": 20,
   "metadata": {
    "collapsed": false
   },
   "outputs": [
    {
     "name": "stdout",
     "output_type": "stream",
     "text": [
      "5\n"
     ]
    }
   ],
   "source": [
    "# 求数组里的最小值\n",
    "print(np.min(arr))"
   ]
  },
  {
   "cell_type": "code",
   "execution_count": 21,
   "metadata": {
    "collapsed": true
   },
   "outputs": [],
   "source": [
    "# 衡量数据和期望值之间的偏离值"
   ]
  },
  {
   "cell_type": "code",
   "execution_count": 22,
   "metadata": {
    "collapsed": false
   },
   "outputs": [
    {
     "name": "stdout",
     "output_type": "stream",
     "text": [
      "1.16368667031\n"
     ]
    }
   ],
   "source": [
    "# 标准差，就是所有元素分别和平均值的差 的和 的平均数\n",
    "print(np.std(arr))\n"
   ]
  },
  {
   "cell_type": "code",
   "execution_count": 23,
   "metadata": {
    "collapsed": false
   },
   "outputs": [
    {
     "name": "stdout",
     "output_type": "stream",
     "text": [
      "1.35416666667\n"
     ]
    }
   ],
   "source": [
    "# 方差：就是所有元素分别和平均数的差，的平方，的和， 的平均数\n",
    "print(np.var(arr))\n"
   ]
  },
  {
   "cell_type": "code",
   "execution_count": 24,
   "metadata": {
    "collapsed": false
   },
   "outputs": [
    {
     "name": "stdout",
     "output_type": "stream",
     "text": [
      "0\n"
     ]
    }
   ],
   "source": [
    "# 如果是多维数组，将多维合并为一维数组，再找到第一个最大值的索引下标\n",
    "# 如果是一维数组，则找到第一个最大值的索引下标\n",
    "print(np.argmax(arr))\n"
   ]
  },
  {
   "cell_type": "code",
   "execution_count": 25,
   "metadata": {
    "collapsed": false
   },
   "outputs": [
    {
     "name": "stdout",
     "output_type": "stream",
     "text": [
      "2\n"
     ]
    }
   ],
   "source": [
    "# 求最小值的索引下标\n",
    "print(np.argmin(arr))"
   ]
  },
  {
   "cell_type": "code",
   "execution_count": 26,
   "metadata": {
    "collapsed": false
   },
   "outputs": [
    {
     "name": "stdout",
     "output_type": "stream",
     "text": [
      "[[9 8 5 8]\n",
      " [6 6 7 7]\n",
      " [7 9 7 8]]\n",
      "[ 9 17 22 30 36 42 49 56 63 72 79 87]\n"
     ]
    }
   ],
   "source": [
    "# 返回一个一维数组，数组的每个元素都是之前所有元素的累加的和\n",
    "print(arr)\n",
    "print(np.cumsum(arr))"
   ]
  },
  {
   "cell_type": "code",
   "execution_count": 28,
   "metadata": {
    "collapsed": false
   },
   "outputs": [
    {
     "name": "stdout",
     "output_type": "stream",
     "text": [
      "[          9          72         360        2880       17280      103680\n",
      "      725760     5080320    35562240   320060160 -2054546176   743499776]\n"
     ]
    }
   ],
   "source": [
    "# 返回一个一维数组，数组的每个元素都是之前所有元素的累乘的积\n",
    "print(np.cumprod(arr))"
   ]
  },
  {
   "cell_type": "markdown",
   "metadata": {},
   "source": [
    "## 元素的判断函数"
   ]
  },
  {
   "cell_type": "code",
   "execution_count": 30,
   "metadata": {
    "collapsed": false
   },
   "outputs": [
    {
     "name": "stdout",
     "output_type": "stream",
     "text": [
      "[[ 0.9056916   0.70913761  0.04194702  0.14776115]\n",
      " [ 0.82454813  0.33611229  0.41594847  0.14853794]\n",
      " [ 0.73559397  0.18586652  0.80770814  0.80145374]]\n"
     ]
    }
   ],
   "source": [
    "arr =np.random.rand(3, 4)\n",
    "print(arr)"
   ]
  },
  {
   "cell_type": "code",
   "execution_count": 33,
   "metadata": {
    "collapsed": false
   },
   "outputs": [
    {
     "name": "stdout",
     "output_type": "stream",
     "text": [
      "False\n"
     ]
    }
   ],
   "source": [
    "# 数组里有任意一个元素满足条件，返回True\n",
    "print(np.any(arr>10))"
   ]
  },
  {
   "cell_type": "code",
   "execution_count": 34,
   "metadata": {
    "collapsed": false
   },
   "outputs": [
    {
     "name": "stdout",
     "output_type": "stream",
     "text": [
      "False\n"
     ]
    }
   ],
   "source": [
    "# 数组里所有元素满足条件，返回True\n",
    "print(np.all(arr>0.5))\n"
   ]
  },
  {
   "cell_type": "code",
   "execution_count": null,
   "metadata": {
    "collapsed": true
   },
   "outputs": [],
   "source": []
  }
 ],
 "metadata": {
  "kernelspec": {
   "display_name": "Python 3",
   "language": "python",
   "name": "python3"
  },
  "language_info": {
   "codemirror_mode": {
    "name": "ipython",
    "version": 3
   },
   "file_extension": ".py",
   "mimetype": "text/x-python",
   "name": "python",
   "nbconvert_exporter": "python",
   "pygments_lexer": "ipython3",
   "version": "3.6.0"
  }
 },
 "nbformat": 4,
 "nbformat_minor": 2
}
