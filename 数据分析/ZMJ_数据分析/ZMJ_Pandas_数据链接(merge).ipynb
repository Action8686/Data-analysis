{
 "cells": [
  {
   "cell_type": "code",
   "execution_count": 1,
   "metadata": {
    "collapsed": true
   },
   "outputs": [],
   "source": [
    "import pandas as pd\n",
    "import numpy as np\n"
   ]
  },
  {
   "cell_type": "code",
   "execution_count": 2,
   "metadata": {
    "collapsed": false
   },
   "outputs": [
    {
     "data": {
      "text/html": [
       "<div>\n",
       "<table border=\"1\" class=\"dataframe\">\n",
       "  <thead>\n",
       "    <tr style=\"text-align: right;\">\n",
       "      <th></th>\n",
       "      <th>data2</th>\n",
       "      <th>key</th>\n",
       "    </tr>\n",
       "  </thead>\n",
       "  <tbody>\n",
       "    <tr>\n",
       "      <th>0</th>\n",
       "      <td>4</td>\n",
       "      <td>a</td>\n",
       "    </tr>\n",
       "    <tr>\n",
       "      <th>1</th>\n",
       "      <td>1</td>\n",
       "      <td>b</td>\n",
       "    </tr>\n",
       "    <tr>\n",
       "      <th>2</th>\n",
       "      <td>5</td>\n",
       "      <td>d</td>\n",
       "    </tr>\n",
       "  </tbody>\n",
       "</table>\n",
       "</div>"
      ],
      "text/plain": [
       "   data2 key\n",
       "0      4   a\n",
       "1      1   b\n",
       "2      5   d"
      ]
     },
     "execution_count": 2,
     "metadata": {},
     "output_type": "execute_result"
    }
   ],
   "source": [
    "df_obj1 = pd.DataFrame({'key': ['b', 'b', 'a', 'c', 'a', 'a', 'b'],\n",
    "                        'data1' : np.random.randint(0,10,7)})\n",
    "df_obj2 = pd.DataFrame({'key': ['a', 'b', 'd'],\n",
    "                        'data2' : np.random.randint(0,10,3)})\n",
    "\n",
    "df_obj1\n",
    "df_obj2"
   ]
  },
  {
   "cell_type": "markdown",
   "metadata": {},
   "source": [
    "## 数据合并：merge 详解（可以使用merge将多个表进行合并）"
   ]
  },
  {
   "cell_type": "code",
   "execution_count": 3,
   "metadata": {
    "collapsed": false
   },
   "outputs": [
    {
     "name": "stdout",
     "output_type": "stream",
     "text": [
      "   data1 key  data2\n",
      "0      1   b      1\n",
      "1      4   b      1\n",
      "2      5   b      1\n",
      "3      0   a      4\n",
      "4      3   a      4\n",
      "5      2   a      4\n"
     ]
    }
   ],
   "source": [
    "# 1. 如果没有指定外键，那么默认使用相同的列名作为外键\n",
    "print(pd.merge(df_obj1, df_obj2))"
   ]
  },
  {
   "cell_type": "code",
   "execution_count": 4,
   "metadata": {
    "collapsed": false
   },
   "outputs": [
    {
     "name": "stdout",
     "output_type": "stream",
     "text": [
      "   data1 key  data2\n",
      "0      1   b      1\n",
      "1      4   b      1\n",
      "2      5   b      1\n",
      "3      0   a      4\n",
      "4      3   a      4\n",
      "5      2   a      4\n"
     ]
    }
   ],
   "source": [
    "# 2.通过on 参数指定一个外键\n",
    "print(pd.merge(df_obj1, df_obj2, on='key'))\n"
   ]
  },
  {
   "cell_type": "code",
   "execution_count": 5,
   "metadata": {
    "collapsed": false
   },
   "outputs": [
    {
     "name": "stdout",
     "output_type": "stream",
     "text": [
      "   data1 key1\n",
      "0      1    b\n",
      "1      4    b\n",
      "2      0    a\n",
      "3      6    c\n",
      "4      3    a\n",
      "5      2    a\n",
      "6      5    b\n",
      "   data2 key2\n",
      "0      4    a\n",
      "1      1    b\n",
      "2      5    d\n"
     ]
    }
   ],
   "source": [
    "# 3.left_on:左边数据集的“外键”， ringht_on:右边数据集的外键\n",
    "df_obj1 = df_obj1.rename(columns={\"key\" : \"key1\"})\n",
    "df_obj2 = df_obj2.rename(columns={\"key\" : \"key2\"})\n",
    "print(df_obj1)\n",
    "print(df_obj2)\n"
   ]
  },
  {
   "cell_type": "code",
   "execution_count": 6,
   "metadata": {
    "collapsed": false
   },
   "outputs": [
    {
     "name": "stdout",
     "output_type": "stream",
     "text": [
      "   data1 key1  data2 key2\n",
      "0      1    b      1    b\n",
      "1      4    b      1    b\n",
      "2      5    b      1    b\n",
      "3      0    a      4    a\n",
      "4      3    a      4    a\n",
      "5      2    a      4    a\n"
     ]
    }
   ],
   "source": [
    "# 当两个数据集没有相同名称的\"外键\"，可以使用left_on 和 right_on来指定两个数据集的外键\n",
    "print(pd.merge(df_obj1, df_obj2, left_on = \"key1\", right_on = \"key2\"))"
   ]
  },
  {
   "cell_type": "code",
   "execution_count": 7,
   "metadata": {
    "collapsed": false
   },
   "outputs": [
    {
     "data": {
      "text/plain": [
       "'\\nIn [1]: a = {2, 3, 4, 5}\\n\\nIn [2]: type(a)\\nOut[2]: set\\n\\nIn [3]: a = {2, 3, 4, 5}\\n\\nIn [4]: b = {5, 6, 7, 8}\\n\\nIn [5]: a & b\\nOut[5]: {5}\\n\\nIn [6]: a | b\\nOut[6]: {2, 3, 4, 5, 6, 7, 8}\\n'"
      ]
     },
     "execution_count": 7,
     "metadata": {},
     "output_type": "execute_result"
    }
   ],
   "source": [
    "# merge默认是内连接，结果是所有数据的交集\n",
    "# 交集： 既属于集合A 也属于集合B的数据集合，称作 A和B 的交集 (A & B)\n",
    "# 并集：所有属于A，或者属于B 的数据集合，称作 A 和 B 的并集 (A | B)\n",
    "'''\n",
    "In [1]: a = {2, 3, 4, 5}\n",
    "\n",
    "In [2]: type(a)\n",
    "Out[2]: set\n",
    "\n",
    "In [3]: a = {2, 3, 4, 5}\n",
    "\n",
    "In [4]: b = {5, 6, 7, 8}\n",
    "\n",
    "In [5]: a & b\n",
    "Out[5]: {5}\n",
    "\n",
    "In [6]: a | b\n",
    "Out[6]: {2, 3, 4, 5, 6, 7, 8}\n",
    "'''"
   ]
  },
  {
   "cell_type": "code",
   "execution_count": 8,
   "metadata": {
    "collapsed": false
   },
   "outputs": [
    {
     "name": "stdout",
     "output_type": "stream",
     "text": [
      "   data1 key1  data2 key2\n",
      "0    1.0    b    1.0    b\n",
      "1    4.0    b    1.0    b\n",
      "2    5.0    b    1.0    b\n",
      "3    0.0    a    4.0    a\n",
      "4    3.0    a    4.0    a\n",
      "5    2.0    a    4.0    a\n",
      "6    6.0    c    NaN  NaN\n",
      "7    NaN  NaN    5.0    d\n"
     ]
    }
   ],
   "source": [
    "# 4. 通过 how 参数来指定连接方式\n",
    "# 4.0 outer 外连接，结果是所有数据的并集\n",
    "print(pd.merge(df_obj1, df_obj2, left_on = \"key1\", right_on = \"key2\", how = \"outer\"))"
   ]
  },
  {
   "cell_type": "code",
   "execution_count": 9,
   "metadata": {
    "collapsed": false
   },
   "outputs": [
    {
     "name": "stdout",
     "output_type": "stream",
     "text": [
      "   data1 key1  data2 key2\n",
      "0      1    b    1.0    b\n",
      "1      4    b    1.0    b\n",
      "2      0    a    4.0    a\n",
      "3      6    c    NaN  NaN\n",
      "4      3    a    4.0    a\n",
      "5      2    a    4.0    a\n",
      "6      5    b    1.0    b\n"
     ]
    }
   ],
   "source": [
    "# 4.1. left 左连接：表示无论右边数据是否得到匹配，都会把左边数据全部显示 \n",
    "print(pd.merge(df_obj1, df_obj2, left_on = \"key1\", right_on = \"key2\", how = \"left\"))"
   ]
  },
  {
   "cell_type": "code",
   "execution_count": 10,
   "metadata": {
    "collapsed": false
   },
   "outputs": [
    {
     "name": "stdout",
     "output_type": "stream",
     "text": [
      "   data1 key1  data2 key2\n",
      "0    1.0    b      1    b\n",
      "1    4.0    b      1    b\n",
      "2    5.0    b      1    b\n",
      "3    0.0    a      4    a\n",
      "4    3.0    a      4    a\n",
      "5    2.0    a      4    a\n",
      "6    NaN  NaN      5    d\n"
     ]
    }
   ],
   "source": [
    "# 4.2. right 右连接：表示无论左边数据是否得到匹配，都会把右边数据全部显示 \n",
    "print(pd.merge(df_obj1, df_obj2, left_on = \"key1\", right_on = \"key2\", how = \"right\"))"
   ]
  },
  {
   "cell_type": "code",
   "execution_count": 11,
   "metadata": {
    "collapsed": false
   },
   "outputs": [
    {
     "name": "stdout",
     "output_type": "stream",
     "text": [
      "   data key\n",
      "0     4   b\n",
      "1     9   b\n",
      "2     1   a\n",
      "3     8   c\n",
      "4     5   a\n",
      "5     8   a\n",
      "6     3   b\n",
      "   data key\n",
      "0     5   a\n",
      "1     1   b\n",
      "2     2   d\n"
     ]
    }
   ],
   "source": [
    "5. # 处理重复列名\n",
    "newdf_obj1 = pd.DataFrame({'key': ['b', 'b', 'a', 'c', 'a', 'a', 'b'],\n",
    "                        'data' : np.random.randint(0,10,7)})\n",
    "newdf_obj2 = pd.DataFrame({'key': ['a', 'b', 'd'],\n",
    "                        'data' : np.random.randint(0,10,3)})\n",
    "print(newdf_obj1)\n",
    "print(newdf_obj2)"
   ]
  },
  {
   "cell_type": "code",
   "execution_count": 12,
   "metadata": {
    "collapsed": false
   },
   "outputs": [
    {
     "name": "stdout",
     "output_type": "stream",
     "text": [
      "   data_left key  data_right\n",
      "0          4   b           1\n",
      "1          9   b           1\n",
      "2          3   b           1\n",
      "3          1   a           5\n",
      "4          5   a           5\n",
      "5          8   a           5\n"
     ]
    }
   ],
   "source": [
    "# 如果两个数据集的列名是相同的，那么指定一个外键，通过suffixes再将其他列名添加一个后缀\n",
    "print(pd.merge(newdf_obj1, newdf_obj2, on = \"key\", suffixes = (\"_left\", \"_right\")))"
   ]
  },
  {
   "cell_type": "code",
   "execution_count": 13,
   "metadata": {
    "collapsed": false
   },
   "outputs": [
    {
     "name": "stdout",
     "output_type": "stream",
     "text": [
      "   data1 key\n",
      "0      0   b\n",
      "1      2   b\n",
      "2      4   a\n",
      "3      4   c\n",
      "4      0   a\n",
      "5      9   a\n",
      "6      8   b\n",
      "   data2\n",
      "a      3\n",
      "b      9\n",
      "d      7\n"
     ]
    }
   ],
   "source": [
    "# 7. 按索引链接： left_index, right_index\n",
    "# left_index：使用左边的DataFrame对象的行索引做为连接健\n",
    "# right_index：使用右边的DataFrame对象的行索引做为连接健\n",
    "df_obj1 = pd.DataFrame({'key': ['b', 'b', 'a', 'c', 'a', 'a', 'b'],\n",
    "                        'data1' : np.random.randint(0,10,7)})\n",
    "df_obj2 = pd.DataFrame({'data2' : np.random.randint(0,10,3)}, index=['a', 'b', 'd'])\n",
    "print(df_obj1)\n",
    "print(df_obj2)"
   ]
  },
  {
   "cell_type": "code",
   "execution_count": 14,
   "metadata": {
    "collapsed": false
   },
   "outputs": [
    {
     "name": "stdout",
     "output_type": "stream",
     "text": [
      "   data1 key  data2\n",
      "0    0.0   b    9.0\n",
      "1    2.0   b    9.0\n",
      "6    8.0   b    9.0\n",
      "2    4.0   a    3.0\n",
      "4    0.0   a    3.0\n",
      "5    9.0   a    3.0\n",
      "3    4.0   c    NaN\n",
      "6    NaN   d    7.0\n"
     ]
    }
   ],
   "source": [
    "# 左侧的数据按key 列来做主键， 右侧的诗句按行索引来做主键（不指定how，默认是交集，outer指定为并集）\n",
    "print(pd.merge(df_obj1, df_obj2, left_on = \"key\", right_index = True, how = \"outer\"))"
   ]
  },
  {
   "cell_type": "code",
   "execution_count": null,
   "metadata": {
    "collapsed": true
   },
   "outputs": [],
   "source": []
  }
 ],
 "metadata": {
  "kernelspec": {
   "display_name": "Python 3",
   "language": "python",
   "name": "python3"
  },
  "language_info": {
   "codemirror_mode": {
    "name": "ipython",
    "version": 3
   },
   "file_extension": ".py",
   "mimetype": "text/x-python",
   "name": "python",
   "nbconvert_exporter": "python",
   "pygments_lexer": "ipython3",
   "version": "3.6.0"
  }
 },
 "nbformat": 4,
 "nbformat_minor": 2
}
